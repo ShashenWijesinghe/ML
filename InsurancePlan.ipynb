{
  "nbformat": 4,
  "nbformat_minor": 0,
  "metadata": {
    "colab": {
      "provenance": [],
      "authorship_tag": "ABX9TyMdHEIwD1INTUO9AfiCi8PE",
      "include_colab_link": true
    },
    "kernelspec": {
      "name": "python3",
      "display_name": "Python 3"
    },
    "language_info": {
      "name": "python"
    }
  },
  "cells": [
    {
      "cell_type": "markdown",
      "metadata": {
        "id": "view-in-github",
        "colab_type": "text"
      },
      "source": [
        "<a href=\"https://colab.research.google.com/github/ShashenWijesinghe/ML/blob/main/InsurancePlan.ipynb\" target=\"_parent\"><img src=\"https://colab.research.google.com/assets/colab-badge.svg\" alt=\"Open In Colab\"/></a>"
      ]
    },
    {
      "cell_type": "code",
      "execution_count": 1,
      "metadata": {
        "id": "gQdBjlws9Qdt"
      },
      "outputs": [],
      "source": [
        "import pandas as pd\n",
        "#pd.set_option('display.max_rows', None, 'display.max_columns', None)\n",
        "import numpy as np\n",
        "np.set_printoptions(threshold=np.inf)\n",
        "import matplotlib.pyplot as plt\n",
        "import seaborn as sns\n",
        "from sklearn.preprocessing import MinMaxScaler\n",
        "from sklearn.preprocessing import LabelEncoder\n",
        "from sklearn.feature_selection import RFE\n",
        "from sklearn.feature_selection import SelectKBest\n",
        "from sklearn.model_selection import train_test_split\n",
        "from sklearn.linear_model import LinearRegression\n",
        "from sklearn.metrics import r2_score\n",
        "import os\n",
        "from sklearn import preprocessing"
      ]
    },
    {
      "cell_type": "code",
      "source": [
        "dataset=pd.read_csv('https://github.com/ShashenWijesinghe/ML/blob/593a00e99393bce140db2560f2c7929588ec558b/insurance.csv?raw=true')\n",
        "dataset.head()\n"
      ],
      "metadata": {
        "colab": {
          "base_uri": "https://localhost:8080/",
          "height": 206
        },
        "id": "Q_Bjpzpm9YY5",
        "outputId": "9cd6fb0b-6b9a-4abc-cdc2-0797ed8c02af"
      },
      "execution_count": 5,
      "outputs": [
        {
          "output_type": "execute_result",
          "data": {
            "text/plain": [
              "   age     sex     bmi  children smoker     region      charges\n",
              "0   19  female  27.900         0    yes  southwest  16884.92400\n",
              "1   18    male  33.770         1     no  southeast   1725.55230\n",
              "2   28    male  33.000         3     no  southeast   4449.46200\n",
              "3   33    male  22.705         0     no  northwest  21984.47061\n",
              "4   32    male  28.880         0     no  northwest   3866.85520"
            ],
            "text/html": [
              "\n",
              "  <div id=\"df-30ff92cf-1c86-4075-afdb-cf24c0d7d4cb\">\n",
              "    <div class=\"colab-df-container\">\n",
              "      <div>\n",
              "<style scoped>\n",
              "    .dataframe tbody tr th:only-of-type {\n",
              "        vertical-align: middle;\n",
              "    }\n",
              "\n",
              "    .dataframe tbody tr th {\n",
              "        vertical-align: top;\n",
              "    }\n",
              "\n",
              "    .dataframe thead th {\n",
              "        text-align: right;\n",
              "    }\n",
              "</style>\n",
              "<table border=\"1\" class=\"dataframe\">\n",
              "  <thead>\n",
              "    <tr style=\"text-align: right;\">\n",
              "      <th></th>\n",
              "      <th>age</th>\n",
              "      <th>sex</th>\n",
              "      <th>bmi</th>\n",
              "      <th>children</th>\n",
              "      <th>smoker</th>\n",
              "      <th>region</th>\n",
              "      <th>charges</th>\n",
              "    </tr>\n",
              "  </thead>\n",
              "  <tbody>\n",
              "    <tr>\n",
              "      <th>0</th>\n",
              "      <td>19</td>\n",
              "      <td>female</td>\n",
              "      <td>27.900</td>\n",
              "      <td>0</td>\n",
              "      <td>yes</td>\n",
              "      <td>southwest</td>\n",
              "      <td>16884.92400</td>\n",
              "    </tr>\n",
              "    <tr>\n",
              "      <th>1</th>\n",
              "      <td>18</td>\n",
              "      <td>male</td>\n",
              "      <td>33.770</td>\n",
              "      <td>1</td>\n",
              "      <td>no</td>\n",
              "      <td>southeast</td>\n",
              "      <td>1725.55230</td>\n",
              "    </tr>\n",
              "    <tr>\n",
              "      <th>2</th>\n",
              "      <td>28</td>\n",
              "      <td>male</td>\n",
              "      <td>33.000</td>\n",
              "      <td>3</td>\n",
              "      <td>no</td>\n",
              "      <td>southeast</td>\n",
              "      <td>4449.46200</td>\n",
              "    </tr>\n",
              "    <tr>\n",
              "      <th>3</th>\n",
              "      <td>33</td>\n",
              "      <td>male</td>\n",
              "      <td>22.705</td>\n",
              "      <td>0</td>\n",
              "      <td>no</td>\n",
              "      <td>northwest</td>\n",
              "      <td>21984.47061</td>\n",
              "    </tr>\n",
              "    <tr>\n",
              "      <th>4</th>\n",
              "      <td>32</td>\n",
              "      <td>male</td>\n",
              "      <td>28.880</td>\n",
              "      <td>0</td>\n",
              "      <td>no</td>\n",
              "      <td>northwest</td>\n",
              "      <td>3866.85520</td>\n",
              "    </tr>\n",
              "  </tbody>\n",
              "</table>\n",
              "</div>\n",
              "      <button class=\"colab-df-convert\" onclick=\"convertToInteractive('df-30ff92cf-1c86-4075-afdb-cf24c0d7d4cb')\"\n",
              "              title=\"Convert this dataframe to an interactive table.\"\n",
              "              style=\"display:none;\">\n",
              "        \n",
              "  <svg xmlns=\"http://www.w3.org/2000/svg\" height=\"24px\"viewBox=\"0 0 24 24\"\n",
              "       width=\"24px\">\n",
              "    <path d=\"M0 0h24v24H0V0z\" fill=\"none\"/>\n",
              "    <path d=\"M18.56 5.44l.94 2.06.94-2.06 2.06-.94-2.06-.94-.94-2.06-.94 2.06-2.06.94zm-11 1L8.5 8.5l.94-2.06 2.06-.94-2.06-.94L8.5 2.5l-.94 2.06-2.06.94zm10 10l.94 2.06.94-2.06 2.06-.94-2.06-.94-.94-2.06-.94 2.06-2.06.94z\"/><path d=\"M17.41 7.96l-1.37-1.37c-.4-.4-.92-.59-1.43-.59-.52 0-1.04.2-1.43.59L10.3 9.45l-7.72 7.72c-.78.78-.78 2.05 0 2.83L4 21.41c.39.39.9.59 1.41.59.51 0 1.02-.2 1.41-.59l7.78-7.78 2.81-2.81c.8-.78.8-2.07 0-2.86zM5.41 20L4 18.59l7.72-7.72 1.47 1.35L5.41 20z\"/>\n",
              "  </svg>\n",
              "      </button>\n",
              "      \n",
              "  <style>\n",
              "    .colab-df-container {\n",
              "      display:flex;\n",
              "      flex-wrap:wrap;\n",
              "      gap: 12px;\n",
              "    }\n",
              "\n",
              "    .colab-df-convert {\n",
              "      background-color: #E8F0FE;\n",
              "      border: none;\n",
              "      border-radius: 50%;\n",
              "      cursor: pointer;\n",
              "      display: none;\n",
              "      fill: #1967D2;\n",
              "      height: 32px;\n",
              "      padding: 0 0 0 0;\n",
              "      width: 32px;\n",
              "    }\n",
              "\n",
              "    .colab-df-convert:hover {\n",
              "      background-color: #E2EBFA;\n",
              "      box-shadow: 0px 1px 2px rgba(60, 64, 67, 0.3), 0px 1px 3px 1px rgba(60, 64, 67, 0.15);\n",
              "      fill: #174EA6;\n",
              "    }\n",
              "\n",
              "    [theme=dark] .colab-df-convert {\n",
              "      background-color: #3B4455;\n",
              "      fill: #D2E3FC;\n",
              "    }\n",
              "\n",
              "    [theme=dark] .colab-df-convert:hover {\n",
              "      background-color: #434B5C;\n",
              "      box-shadow: 0px 1px 3px 1px rgba(0, 0, 0, 0.15);\n",
              "      filter: drop-shadow(0px 1px 2px rgba(0, 0, 0, 0.3));\n",
              "      fill: #FFFFFF;\n",
              "    }\n",
              "  </style>\n",
              "\n",
              "      <script>\n",
              "        const buttonEl =\n",
              "          document.querySelector('#df-30ff92cf-1c86-4075-afdb-cf24c0d7d4cb button.colab-df-convert');\n",
              "        buttonEl.style.display =\n",
              "          google.colab.kernel.accessAllowed ? 'block' : 'none';\n",
              "\n",
              "        async function convertToInteractive(key) {\n",
              "          const element = document.querySelector('#df-30ff92cf-1c86-4075-afdb-cf24c0d7d4cb');\n",
              "          const dataTable =\n",
              "            await google.colab.kernel.invokeFunction('convertToInteractive',\n",
              "                                                     [key], {});\n",
              "          if (!dataTable) return;\n",
              "\n",
              "          const docLinkHtml = 'Like what you see? Visit the ' +\n",
              "            '<a target=\"_blank\" href=https://colab.research.google.com/notebooks/data_table.ipynb>data table notebook</a>'\n",
              "            + ' to learn more about interactive tables.';\n",
              "          element.innerHTML = '';\n",
              "          dataTable['output_type'] = 'display_data';\n",
              "          await google.colab.output.renderOutput(dataTable, element);\n",
              "          const docLink = document.createElement('div');\n",
              "          docLink.innerHTML = docLinkHtml;\n",
              "          element.appendChild(docLink);\n",
              "        }\n",
              "      </script>\n",
              "    </div>\n",
              "  </div>\n",
              "  "
            ]
          },
          "metadata": {},
          "execution_count": 5
        }
      ]
    },
    {
      "cell_type": "code",
      "source": [
        "dataset"
      ],
      "metadata": {
        "colab": {
          "base_uri": "https://localhost:8080/",
          "height": 424
        },
        "id": "CK5LI14MY-jT",
        "outputId": "9a2cc018-4ab0-4690-8096-468aa2005573"
      },
      "execution_count": 5,
      "outputs": [
        {
          "output_type": "execute_result",
          "data": {
            "text/plain": [
              "      age     sex     bmi  children smoker     region      charges\n",
              "0      19  female  27.900         0    yes  southwest  16884.92400\n",
              "1      18    male  33.770         1     no  southeast   1725.55230\n",
              "2      28    male  33.000         3     no  southeast   4449.46200\n",
              "3      33    male  22.705         0     no  northwest  21984.47061\n",
              "4      32    male  28.880         0     no  northwest   3866.85520\n",
              "...   ...     ...     ...       ...    ...        ...          ...\n",
              "1333   50    male  30.970         3     no  northwest  10600.54830\n",
              "1334   18  female  31.920         0     no  northeast   2205.98080\n",
              "1335   18  female  36.850         0     no  southeast   1629.83350\n",
              "1336   21  female  25.800         0     no  southwest   2007.94500\n",
              "1337   61  female  29.070         0    yes  northwest  29141.36030\n",
              "\n",
              "[1338 rows x 7 columns]"
            ],
            "text/html": [
              "\n",
              "  <div id=\"df-fdfffe59-f5ef-40ed-933a-abe34d8a95ee\">\n",
              "    <div class=\"colab-df-container\">\n",
              "      <div>\n",
              "<style scoped>\n",
              "    .dataframe tbody tr th:only-of-type {\n",
              "        vertical-align: middle;\n",
              "    }\n",
              "\n",
              "    .dataframe tbody tr th {\n",
              "        vertical-align: top;\n",
              "    }\n",
              "\n",
              "    .dataframe thead th {\n",
              "        text-align: right;\n",
              "    }\n",
              "</style>\n",
              "<table border=\"1\" class=\"dataframe\">\n",
              "  <thead>\n",
              "    <tr style=\"text-align: right;\">\n",
              "      <th></th>\n",
              "      <th>age</th>\n",
              "      <th>sex</th>\n",
              "      <th>bmi</th>\n",
              "      <th>children</th>\n",
              "      <th>smoker</th>\n",
              "      <th>region</th>\n",
              "      <th>charges</th>\n",
              "    </tr>\n",
              "  </thead>\n",
              "  <tbody>\n",
              "    <tr>\n",
              "      <th>0</th>\n",
              "      <td>19</td>\n",
              "      <td>female</td>\n",
              "      <td>27.900</td>\n",
              "      <td>0</td>\n",
              "      <td>yes</td>\n",
              "      <td>southwest</td>\n",
              "      <td>16884.92400</td>\n",
              "    </tr>\n",
              "    <tr>\n",
              "      <th>1</th>\n",
              "      <td>18</td>\n",
              "      <td>male</td>\n",
              "      <td>33.770</td>\n",
              "      <td>1</td>\n",
              "      <td>no</td>\n",
              "      <td>southeast</td>\n",
              "      <td>1725.55230</td>\n",
              "    </tr>\n",
              "    <tr>\n",
              "      <th>2</th>\n",
              "      <td>28</td>\n",
              "      <td>male</td>\n",
              "      <td>33.000</td>\n",
              "      <td>3</td>\n",
              "      <td>no</td>\n",
              "      <td>southeast</td>\n",
              "      <td>4449.46200</td>\n",
              "    </tr>\n",
              "    <tr>\n",
              "      <th>3</th>\n",
              "      <td>33</td>\n",
              "      <td>male</td>\n",
              "      <td>22.705</td>\n",
              "      <td>0</td>\n",
              "      <td>no</td>\n",
              "      <td>northwest</td>\n",
              "      <td>21984.47061</td>\n",
              "    </tr>\n",
              "    <tr>\n",
              "      <th>4</th>\n",
              "      <td>32</td>\n",
              "      <td>male</td>\n",
              "      <td>28.880</td>\n",
              "      <td>0</td>\n",
              "      <td>no</td>\n",
              "      <td>northwest</td>\n",
              "      <td>3866.85520</td>\n",
              "    </tr>\n",
              "    <tr>\n",
              "      <th>...</th>\n",
              "      <td>...</td>\n",
              "      <td>...</td>\n",
              "      <td>...</td>\n",
              "      <td>...</td>\n",
              "      <td>...</td>\n",
              "      <td>...</td>\n",
              "      <td>...</td>\n",
              "    </tr>\n",
              "    <tr>\n",
              "      <th>1333</th>\n",
              "      <td>50</td>\n",
              "      <td>male</td>\n",
              "      <td>30.970</td>\n",
              "      <td>3</td>\n",
              "      <td>no</td>\n",
              "      <td>northwest</td>\n",
              "      <td>10600.54830</td>\n",
              "    </tr>\n",
              "    <tr>\n",
              "      <th>1334</th>\n",
              "      <td>18</td>\n",
              "      <td>female</td>\n",
              "      <td>31.920</td>\n",
              "      <td>0</td>\n",
              "      <td>no</td>\n",
              "      <td>northeast</td>\n",
              "      <td>2205.98080</td>\n",
              "    </tr>\n",
              "    <tr>\n",
              "      <th>1335</th>\n",
              "      <td>18</td>\n",
              "      <td>female</td>\n",
              "      <td>36.850</td>\n",
              "      <td>0</td>\n",
              "      <td>no</td>\n",
              "      <td>southeast</td>\n",
              "      <td>1629.83350</td>\n",
              "    </tr>\n",
              "    <tr>\n",
              "      <th>1336</th>\n",
              "      <td>21</td>\n",
              "      <td>female</td>\n",
              "      <td>25.800</td>\n",
              "      <td>0</td>\n",
              "      <td>no</td>\n",
              "      <td>southwest</td>\n",
              "      <td>2007.94500</td>\n",
              "    </tr>\n",
              "    <tr>\n",
              "      <th>1337</th>\n",
              "      <td>61</td>\n",
              "      <td>female</td>\n",
              "      <td>29.070</td>\n",
              "      <td>0</td>\n",
              "      <td>yes</td>\n",
              "      <td>northwest</td>\n",
              "      <td>29141.36030</td>\n",
              "    </tr>\n",
              "  </tbody>\n",
              "</table>\n",
              "<p>1338 rows × 7 columns</p>\n",
              "</div>\n",
              "      <button class=\"colab-df-convert\" onclick=\"convertToInteractive('df-fdfffe59-f5ef-40ed-933a-abe34d8a95ee')\"\n",
              "              title=\"Convert this dataframe to an interactive table.\"\n",
              "              style=\"display:none;\">\n",
              "        \n",
              "  <svg xmlns=\"http://www.w3.org/2000/svg\" height=\"24px\"viewBox=\"0 0 24 24\"\n",
              "       width=\"24px\">\n",
              "    <path d=\"M0 0h24v24H0V0z\" fill=\"none\"/>\n",
              "    <path d=\"M18.56 5.44l.94 2.06.94-2.06 2.06-.94-2.06-.94-.94-2.06-.94 2.06-2.06.94zm-11 1L8.5 8.5l.94-2.06 2.06-.94-2.06-.94L8.5 2.5l-.94 2.06-2.06.94zm10 10l.94 2.06.94-2.06 2.06-.94-2.06-.94-.94-2.06-.94 2.06-2.06.94z\"/><path d=\"M17.41 7.96l-1.37-1.37c-.4-.4-.92-.59-1.43-.59-.52 0-1.04.2-1.43.59L10.3 9.45l-7.72 7.72c-.78.78-.78 2.05 0 2.83L4 21.41c.39.39.9.59 1.41.59.51 0 1.02-.2 1.41-.59l7.78-7.78 2.81-2.81c.8-.78.8-2.07 0-2.86zM5.41 20L4 18.59l7.72-7.72 1.47 1.35L5.41 20z\"/>\n",
              "  </svg>\n",
              "      </button>\n",
              "      \n",
              "  <style>\n",
              "    .colab-df-container {\n",
              "      display:flex;\n",
              "      flex-wrap:wrap;\n",
              "      gap: 12px;\n",
              "    }\n",
              "\n",
              "    .colab-df-convert {\n",
              "      background-color: #E8F0FE;\n",
              "      border: none;\n",
              "      border-radius: 50%;\n",
              "      cursor: pointer;\n",
              "      display: none;\n",
              "      fill: #1967D2;\n",
              "      height: 32px;\n",
              "      padding: 0 0 0 0;\n",
              "      width: 32px;\n",
              "    }\n",
              "\n",
              "    .colab-df-convert:hover {\n",
              "      background-color: #E2EBFA;\n",
              "      box-shadow: 0px 1px 2px rgba(60, 64, 67, 0.3), 0px 1px 3px 1px rgba(60, 64, 67, 0.15);\n",
              "      fill: #174EA6;\n",
              "    }\n",
              "\n",
              "    [theme=dark] .colab-df-convert {\n",
              "      background-color: #3B4455;\n",
              "      fill: #D2E3FC;\n",
              "    }\n",
              "\n",
              "    [theme=dark] .colab-df-convert:hover {\n",
              "      background-color: #434B5C;\n",
              "      box-shadow: 0px 1px 3px 1px rgba(0, 0, 0, 0.15);\n",
              "      filter: drop-shadow(0px 1px 2px rgba(0, 0, 0, 0.3));\n",
              "      fill: #FFFFFF;\n",
              "    }\n",
              "  </style>\n",
              "\n",
              "      <script>\n",
              "        const buttonEl =\n",
              "          document.querySelector('#df-fdfffe59-f5ef-40ed-933a-abe34d8a95ee button.colab-df-convert');\n",
              "        buttonEl.style.display =\n",
              "          google.colab.kernel.accessAllowed ? 'block' : 'none';\n",
              "\n",
              "        async function convertToInteractive(key) {\n",
              "          const element = document.querySelector('#df-fdfffe59-f5ef-40ed-933a-abe34d8a95ee');\n",
              "          const dataTable =\n",
              "            await google.colab.kernel.invokeFunction('convertToInteractive',\n",
              "                                                     [key], {});\n",
              "          if (!dataTable) return;\n",
              "\n",
              "          const docLinkHtml = 'Like what you see? Visit the ' +\n",
              "            '<a target=\"_blank\" href=https://colab.research.google.com/notebooks/data_table.ipynb>data table notebook</a>'\n",
              "            + ' to learn more about interactive tables.';\n",
              "          element.innerHTML = '';\n",
              "          dataTable['output_type'] = 'display_data';\n",
              "          await google.colab.output.renderOutput(dataTable, element);\n",
              "          const docLink = document.createElement('div');\n",
              "          docLink.innerHTML = docLinkHtml;\n",
              "          element.appendChild(docLink);\n",
              "        }\n",
              "      </script>\n",
              "    </div>\n",
              "  </div>\n",
              "  "
            ]
          },
          "metadata": {},
          "execution_count": 5
        }
      ]
    },
    {
      "cell_type": "code",
      "source": [
        "dataset.shape"
      ],
      "metadata": {
        "colab": {
          "base_uri": "https://localhost:8080/"
        },
        "id": "57-T-OCOZtBq",
        "outputId": "203698d6-71fa-494f-b0db-054ab1afdca1"
      },
      "execution_count": 6,
      "outputs": [
        {
          "output_type": "execute_result",
          "data": {
            "text/plain": [
              "(1338, 7)"
            ]
          },
          "metadata": {},
          "execution_count": 6
        }
      ]
    },
    {
      "cell_type": "code",
      "source": [
        "dataset.describe()"
      ],
      "metadata": {
        "colab": {
          "base_uri": "https://localhost:8080/",
          "height": 300
        },
        "id": "XNRRyCn6aOaa",
        "outputId": "e103da60-2c1a-4cde-97bf-c8212e6e9621"
      },
      "execution_count": 7,
      "outputs": [
        {
          "output_type": "execute_result",
          "data": {
            "text/plain": [
              "               age          bmi     children       charges\n",
              "count  1338.000000  1338.000000  1338.000000   1338.000000\n",
              "mean     39.207025    30.663397     1.094918  13270.422265\n",
              "std      14.049960     6.098187     1.205493  12110.011237\n",
              "min      18.000000    15.960000     0.000000   1121.873900\n",
              "25%      27.000000    26.296250     0.000000   4740.287150\n",
              "50%      39.000000    30.400000     1.000000   9382.033000\n",
              "75%      51.000000    34.693750     2.000000  16639.912515\n",
              "max      64.000000    53.130000     5.000000  63770.428010"
            ],
            "text/html": [
              "\n",
              "  <div id=\"df-514706be-d898-44bb-b5e0-9c3533d8d99f\">\n",
              "    <div class=\"colab-df-container\">\n",
              "      <div>\n",
              "<style scoped>\n",
              "    .dataframe tbody tr th:only-of-type {\n",
              "        vertical-align: middle;\n",
              "    }\n",
              "\n",
              "    .dataframe tbody tr th {\n",
              "        vertical-align: top;\n",
              "    }\n",
              "\n",
              "    .dataframe thead th {\n",
              "        text-align: right;\n",
              "    }\n",
              "</style>\n",
              "<table border=\"1\" class=\"dataframe\">\n",
              "  <thead>\n",
              "    <tr style=\"text-align: right;\">\n",
              "      <th></th>\n",
              "      <th>age</th>\n",
              "      <th>bmi</th>\n",
              "      <th>children</th>\n",
              "      <th>charges</th>\n",
              "    </tr>\n",
              "  </thead>\n",
              "  <tbody>\n",
              "    <tr>\n",
              "      <th>count</th>\n",
              "      <td>1338.000000</td>\n",
              "      <td>1338.000000</td>\n",
              "      <td>1338.000000</td>\n",
              "      <td>1338.000000</td>\n",
              "    </tr>\n",
              "    <tr>\n",
              "      <th>mean</th>\n",
              "      <td>39.207025</td>\n",
              "      <td>30.663397</td>\n",
              "      <td>1.094918</td>\n",
              "      <td>13270.422265</td>\n",
              "    </tr>\n",
              "    <tr>\n",
              "      <th>std</th>\n",
              "      <td>14.049960</td>\n",
              "      <td>6.098187</td>\n",
              "      <td>1.205493</td>\n",
              "      <td>12110.011237</td>\n",
              "    </tr>\n",
              "    <tr>\n",
              "      <th>min</th>\n",
              "      <td>18.000000</td>\n",
              "      <td>15.960000</td>\n",
              "      <td>0.000000</td>\n",
              "      <td>1121.873900</td>\n",
              "    </tr>\n",
              "    <tr>\n",
              "      <th>25%</th>\n",
              "      <td>27.000000</td>\n",
              "      <td>26.296250</td>\n",
              "      <td>0.000000</td>\n",
              "      <td>4740.287150</td>\n",
              "    </tr>\n",
              "    <tr>\n",
              "      <th>50%</th>\n",
              "      <td>39.000000</td>\n",
              "      <td>30.400000</td>\n",
              "      <td>1.000000</td>\n",
              "      <td>9382.033000</td>\n",
              "    </tr>\n",
              "    <tr>\n",
              "      <th>75%</th>\n",
              "      <td>51.000000</td>\n",
              "      <td>34.693750</td>\n",
              "      <td>2.000000</td>\n",
              "      <td>16639.912515</td>\n",
              "    </tr>\n",
              "    <tr>\n",
              "      <th>max</th>\n",
              "      <td>64.000000</td>\n",
              "      <td>53.130000</td>\n",
              "      <td>5.000000</td>\n",
              "      <td>63770.428010</td>\n",
              "    </tr>\n",
              "  </tbody>\n",
              "</table>\n",
              "</div>\n",
              "      <button class=\"colab-df-convert\" onclick=\"convertToInteractive('df-514706be-d898-44bb-b5e0-9c3533d8d99f')\"\n",
              "              title=\"Convert this dataframe to an interactive table.\"\n",
              "              style=\"display:none;\">\n",
              "        \n",
              "  <svg xmlns=\"http://www.w3.org/2000/svg\" height=\"24px\"viewBox=\"0 0 24 24\"\n",
              "       width=\"24px\">\n",
              "    <path d=\"M0 0h24v24H0V0z\" fill=\"none\"/>\n",
              "    <path d=\"M18.56 5.44l.94 2.06.94-2.06 2.06-.94-2.06-.94-.94-2.06-.94 2.06-2.06.94zm-11 1L8.5 8.5l.94-2.06 2.06-.94-2.06-.94L8.5 2.5l-.94 2.06-2.06.94zm10 10l.94 2.06.94-2.06 2.06-.94-2.06-.94-.94-2.06-.94 2.06-2.06.94z\"/><path d=\"M17.41 7.96l-1.37-1.37c-.4-.4-.92-.59-1.43-.59-.52 0-1.04.2-1.43.59L10.3 9.45l-7.72 7.72c-.78.78-.78 2.05 0 2.83L4 21.41c.39.39.9.59 1.41.59.51 0 1.02-.2 1.41-.59l7.78-7.78 2.81-2.81c.8-.78.8-2.07 0-2.86zM5.41 20L4 18.59l7.72-7.72 1.47 1.35L5.41 20z\"/>\n",
              "  </svg>\n",
              "      </button>\n",
              "      \n",
              "  <style>\n",
              "    .colab-df-container {\n",
              "      display:flex;\n",
              "      flex-wrap:wrap;\n",
              "      gap: 12px;\n",
              "    }\n",
              "\n",
              "    .colab-df-convert {\n",
              "      background-color: #E8F0FE;\n",
              "      border: none;\n",
              "      border-radius: 50%;\n",
              "      cursor: pointer;\n",
              "      display: none;\n",
              "      fill: #1967D2;\n",
              "      height: 32px;\n",
              "      padding: 0 0 0 0;\n",
              "      width: 32px;\n",
              "    }\n",
              "\n",
              "    .colab-df-convert:hover {\n",
              "      background-color: #E2EBFA;\n",
              "      box-shadow: 0px 1px 2px rgba(60, 64, 67, 0.3), 0px 1px 3px 1px rgba(60, 64, 67, 0.15);\n",
              "      fill: #174EA6;\n",
              "    }\n",
              "\n",
              "    [theme=dark] .colab-df-convert {\n",
              "      background-color: #3B4455;\n",
              "      fill: #D2E3FC;\n",
              "    }\n",
              "\n",
              "    [theme=dark] .colab-df-convert:hover {\n",
              "      background-color: #434B5C;\n",
              "      box-shadow: 0px 1px 3px 1px rgba(0, 0, 0, 0.15);\n",
              "      filter: drop-shadow(0px 1px 2px rgba(0, 0, 0, 0.3));\n",
              "      fill: #FFFFFF;\n",
              "    }\n",
              "  </style>\n",
              "\n",
              "      <script>\n",
              "        const buttonEl =\n",
              "          document.querySelector('#df-514706be-d898-44bb-b5e0-9c3533d8d99f button.colab-df-convert');\n",
              "        buttonEl.style.display =\n",
              "          google.colab.kernel.accessAllowed ? 'block' : 'none';\n",
              "\n",
              "        async function convertToInteractive(key) {\n",
              "          const element = document.querySelector('#df-514706be-d898-44bb-b5e0-9c3533d8d99f');\n",
              "          const dataTable =\n",
              "            await google.colab.kernel.invokeFunction('convertToInteractive',\n",
              "                                                     [key], {});\n",
              "          if (!dataTable) return;\n",
              "\n",
              "          const docLinkHtml = 'Like what you see? Visit the ' +\n",
              "            '<a target=\"_blank\" href=https://colab.research.google.com/notebooks/data_table.ipynb>data table notebook</a>'\n",
              "            + ' to learn more about interactive tables.';\n",
              "          element.innerHTML = '';\n",
              "          dataTable['output_type'] = 'display_data';\n",
              "          await google.colab.output.renderOutput(dataTable, element);\n",
              "          const docLink = document.createElement('div');\n",
              "          docLink.innerHTML = docLinkHtml;\n",
              "          element.appendChild(docLink);\n",
              "        }\n",
              "      </script>\n",
              "    </div>\n",
              "  </div>\n",
              "  "
            ]
          },
          "metadata": {},
          "execution_count": 7
        }
      ]
    },
    {
      "cell_type": "code",
      "source": [
        "scaler = MinMaxScaler()\n",
        "dataset['age'] = scaler.fit_transform(dataset['age'].values.reshape(-1,1))"
      ],
      "metadata": {
        "id": "CV9a3rugvDpJ"
      },
      "execution_count": 8,
      "outputs": []
    },
    {
      "cell_type": "code",
      "source": [
        "dataset.loc[dataset[\"bmi\"] < 18.5, \"bmi\"] = 0\n",
        "dataset.loc[(dataset[\"bmi\"] > 18.5) & (dataset[\"bmi\"] <= 24.9) , \"bmi\"] = 1\n",
        "dataset.loc[(dataset[\"bmi\"] > 25) & (dataset[\"bmi\"] <= 29.9) , \"bmi\"] = 2\n",
        "dataset.loc[dataset[\"bmi\"] > 30 , \"bmi\"] = 3"
      ],
      "metadata": {
        "id": "85ttz0h-_ER5"
      },
      "execution_count": 9,
      "outputs": []
    },
    {
      "cell_type": "code",
      "source": [
        "dataset['charges'].max()"
      ],
      "metadata": {
        "colab": {
          "base_uri": "https://localhost:8080/"
        },
        "id": "Wzu0iDpKoqXj",
        "outputId": "1f85f9f9-1267-4a73-c46e-1f6cfad294f3"
      },
      "execution_count": 10,
      "outputs": [
        {
          "output_type": "execute_result",
          "data": {
            "text/plain": [
              "63770.42801"
            ]
          },
          "metadata": {},
          "execution_count": 10
        }
      ]
    },
    {
      "cell_type": "code",
      "source": [
        "def label_charge (row):\n",
        "   if row['charges'] <= 5000 :\n",
        "      return 'PKG1'\n",
        "   if row['charges'] > 5000 and row['charges'] <= 10000 :\n",
        "      return 'PKG2'\n",
        "   if row['charges'] > 10000 and row['charges'] <= 15000 :\n",
        "      return 'PKG3'\n",
        "   if row['charges'] > 15000 :\n",
        "      return 'PKG4'\n",
        "   return 'UNKNOWN'"
      ],
      "metadata": {
        "id": "Iy8lBC_2GzQX"
      },
      "execution_count": 11,
      "outputs": []
    },
    {
      "cell_type": "code",
      "source": [
        "dataset['PLAN'] = dataset.apply (lambda row: label_charge(row), axis=1)"
      ],
      "metadata": {
        "id": "daSPkm3Vo3hY"
      },
      "execution_count": 12,
      "outputs": []
    },
    {
      "cell_type": "code",
      "source": [
        "dataset.tail(10)"
      ],
      "metadata": {
        "colab": {
          "base_uri": "https://localhost:8080/",
          "height": 363
        },
        "id": "whT1TWoyEWJn",
        "outputId": "eaf4e89e-74de-4f15-9782-1b687b1e7ed7"
      },
      "execution_count": 13,
      "outputs": [
        {
          "output_type": "execute_result",
          "data": {
            "text/plain": [
              "           age     sex  bmi  children smoker     region      charges  PLAN\n",
              "1328  0.108696  female  1.0         2     no  northeast  22395.74424  PKG4\n",
              "1329  0.739130    male  3.0         2     no  southwest  10325.20600  PKG3\n",
              "1330  0.847826  female  2.0         2     no  southeast  12629.16560  PKG3\n",
              "1331  0.108696  female  3.0         0     no  southwest  10795.93733  PKG3\n",
              "1332  0.739130  female  3.0         3     no  southwest  11411.68500  PKG3\n",
              "1333  0.695652    male  3.0         3     no  northwest  10600.54830  PKG3\n",
              "1334  0.000000  female  3.0         0     no  northeast   2205.98080  PKG1\n",
              "1335  0.000000  female  3.0         0     no  southeast   1629.83350  PKG1\n",
              "1336  0.065217  female  2.0         0     no  southwest   2007.94500  PKG1\n",
              "1337  0.934783  female  2.0         0    yes  northwest  29141.36030  PKG4"
            ],
            "text/html": [
              "\n",
              "  <div id=\"df-87e3c577-70e1-4b67-80df-348a779c6c95\">\n",
              "    <div class=\"colab-df-container\">\n",
              "      <div>\n",
              "<style scoped>\n",
              "    .dataframe tbody tr th:only-of-type {\n",
              "        vertical-align: middle;\n",
              "    }\n",
              "\n",
              "    .dataframe tbody tr th {\n",
              "        vertical-align: top;\n",
              "    }\n",
              "\n",
              "    .dataframe thead th {\n",
              "        text-align: right;\n",
              "    }\n",
              "</style>\n",
              "<table border=\"1\" class=\"dataframe\">\n",
              "  <thead>\n",
              "    <tr style=\"text-align: right;\">\n",
              "      <th></th>\n",
              "      <th>age</th>\n",
              "      <th>sex</th>\n",
              "      <th>bmi</th>\n",
              "      <th>children</th>\n",
              "      <th>smoker</th>\n",
              "      <th>region</th>\n",
              "      <th>charges</th>\n",
              "      <th>PLAN</th>\n",
              "    </tr>\n",
              "  </thead>\n",
              "  <tbody>\n",
              "    <tr>\n",
              "      <th>1328</th>\n",
              "      <td>0.108696</td>\n",
              "      <td>female</td>\n",
              "      <td>1.0</td>\n",
              "      <td>2</td>\n",
              "      <td>no</td>\n",
              "      <td>northeast</td>\n",
              "      <td>22395.74424</td>\n",
              "      <td>PKG4</td>\n",
              "    </tr>\n",
              "    <tr>\n",
              "      <th>1329</th>\n",
              "      <td>0.739130</td>\n",
              "      <td>male</td>\n",
              "      <td>3.0</td>\n",
              "      <td>2</td>\n",
              "      <td>no</td>\n",
              "      <td>southwest</td>\n",
              "      <td>10325.20600</td>\n",
              "      <td>PKG3</td>\n",
              "    </tr>\n",
              "    <tr>\n",
              "      <th>1330</th>\n",
              "      <td>0.847826</td>\n",
              "      <td>female</td>\n",
              "      <td>2.0</td>\n",
              "      <td>2</td>\n",
              "      <td>no</td>\n",
              "      <td>southeast</td>\n",
              "      <td>12629.16560</td>\n",
              "      <td>PKG3</td>\n",
              "    </tr>\n",
              "    <tr>\n",
              "      <th>1331</th>\n",
              "      <td>0.108696</td>\n",
              "      <td>female</td>\n",
              "      <td>3.0</td>\n",
              "      <td>0</td>\n",
              "      <td>no</td>\n",
              "      <td>southwest</td>\n",
              "      <td>10795.93733</td>\n",
              "      <td>PKG3</td>\n",
              "    </tr>\n",
              "    <tr>\n",
              "      <th>1332</th>\n",
              "      <td>0.739130</td>\n",
              "      <td>female</td>\n",
              "      <td>3.0</td>\n",
              "      <td>3</td>\n",
              "      <td>no</td>\n",
              "      <td>southwest</td>\n",
              "      <td>11411.68500</td>\n",
              "      <td>PKG3</td>\n",
              "    </tr>\n",
              "    <tr>\n",
              "      <th>1333</th>\n",
              "      <td>0.695652</td>\n",
              "      <td>male</td>\n",
              "      <td>3.0</td>\n",
              "      <td>3</td>\n",
              "      <td>no</td>\n",
              "      <td>northwest</td>\n",
              "      <td>10600.54830</td>\n",
              "      <td>PKG3</td>\n",
              "    </tr>\n",
              "    <tr>\n",
              "      <th>1334</th>\n",
              "      <td>0.000000</td>\n",
              "      <td>female</td>\n",
              "      <td>3.0</td>\n",
              "      <td>0</td>\n",
              "      <td>no</td>\n",
              "      <td>northeast</td>\n",
              "      <td>2205.98080</td>\n",
              "      <td>PKG1</td>\n",
              "    </tr>\n",
              "    <tr>\n",
              "      <th>1335</th>\n",
              "      <td>0.000000</td>\n",
              "      <td>female</td>\n",
              "      <td>3.0</td>\n",
              "      <td>0</td>\n",
              "      <td>no</td>\n",
              "      <td>southeast</td>\n",
              "      <td>1629.83350</td>\n",
              "      <td>PKG1</td>\n",
              "    </tr>\n",
              "    <tr>\n",
              "      <th>1336</th>\n",
              "      <td>0.065217</td>\n",
              "      <td>female</td>\n",
              "      <td>2.0</td>\n",
              "      <td>0</td>\n",
              "      <td>no</td>\n",
              "      <td>southwest</td>\n",
              "      <td>2007.94500</td>\n",
              "      <td>PKG1</td>\n",
              "    </tr>\n",
              "    <tr>\n",
              "      <th>1337</th>\n",
              "      <td>0.934783</td>\n",
              "      <td>female</td>\n",
              "      <td>2.0</td>\n",
              "      <td>0</td>\n",
              "      <td>yes</td>\n",
              "      <td>northwest</td>\n",
              "      <td>29141.36030</td>\n",
              "      <td>PKG4</td>\n",
              "    </tr>\n",
              "  </tbody>\n",
              "</table>\n",
              "</div>\n",
              "      <button class=\"colab-df-convert\" onclick=\"convertToInteractive('df-87e3c577-70e1-4b67-80df-348a779c6c95')\"\n",
              "              title=\"Convert this dataframe to an interactive table.\"\n",
              "              style=\"display:none;\">\n",
              "        \n",
              "  <svg xmlns=\"http://www.w3.org/2000/svg\" height=\"24px\"viewBox=\"0 0 24 24\"\n",
              "       width=\"24px\">\n",
              "    <path d=\"M0 0h24v24H0V0z\" fill=\"none\"/>\n",
              "    <path d=\"M18.56 5.44l.94 2.06.94-2.06 2.06-.94-2.06-.94-.94-2.06-.94 2.06-2.06.94zm-11 1L8.5 8.5l.94-2.06 2.06-.94-2.06-.94L8.5 2.5l-.94 2.06-2.06.94zm10 10l.94 2.06.94-2.06 2.06-.94-2.06-.94-.94-2.06-.94 2.06-2.06.94z\"/><path d=\"M17.41 7.96l-1.37-1.37c-.4-.4-.92-.59-1.43-.59-.52 0-1.04.2-1.43.59L10.3 9.45l-7.72 7.72c-.78.78-.78 2.05 0 2.83L4 21.41c.39.39.9.59 1.41.59.51 0 1.02-.2 1.41-.59l7.78-7.78 2.81-2.81c.8-.78.8-2.07 0-2.86zM5.41 20L4 18.59l7.72-7.72 1.47 1.35L5.41 20z\"/>\n",
              "  </svg>\n",
              "      </button>\n",
              "      \n",
              "  <style>\n",
              "    .colab-df-container {\n",
              "      display:flex;\n",
              "      flex-wrap:wrap;\n",
              "      gap: 12px;\n",
              "    }\n",
              "\n",
              "    .colab-df-convert {\n",
              "      background-color: #E8F0FE;\n",
              "      border: none;\n",
              "      border-radius: 50%;\n",
              "      cursor: pointer;\n",
              "      display: none;\n",
              "      fill: #1967D2;\n",
              "      height: 32px;\n",
              "      padding: 0 0 0 0;\n",
              "      width: 32px;\n",
              "    }\n",
              "\n",
              "    .colab-df-convert:hover {\n",
              "      background-color: #E2EBFA;\n",
              "      box-shadow: 0px 1px 2px rgba(60, 64, 67, 0.3), 0px 1px 3px 1px rgba(60, 64, 67, 0.15);\n",
              "      fill: #174EA6;\n",
              "    }\n",
              "\n",
              "    [theme=dark] .colab-df-convert {\n",
              "      background-color: #3B4455;\n",
              "      fill: #D2E3FC;\n",
              "    }\n",
              "\n",
              "    [theme=dark] .colab-df-convert:hover {\n",
              "      background-color: #434B5C;\n",
              "      box-shadow: 0px 1px 3px 1px rgba(0, 0, 0, 0.15);\n",
              "      filter: drop-shadow(0px 1px 2px rgba(0, 0, 0, 0.3));\n",
              "      fill: #FFFFFF;\n",
              "    }\n",
              "  </style>\n",
              "\n",
              "      <script>\n",
              "        const buttonEl =\n",
              "          document.querySelector('#df-87e3c577-70e1-4b67-80df-348a779c6c95 button.colab-df-convert');\n",
              "        buttonEl.style.display =\n",
              "          google.colab.kernel.accessAllowed ? 'block' : 'none';\n",
              "\n",
              "        async function convertToInteractive(key) {\n",
              "          const element = document.querySelector('#df-87e3c577-70e1-4b67-80df-348a779c6c95');\n",
              "          const dataTable =\n",
              "            await google.colab.kernel.invokeFunction('convertToInteractive',\n",
              "                                                     [key], {});\n",
              "          if (!dataTable) return;\n",
              "\n",
              "          const docLinkHtml = 'Like what you see? Visit the ' +\n",
              "            '<a target=\"_blank\" href=https://colab.research.google.com/notebooks/data_table.ipynb>data table notebook</a>'\n",
              "            + ' to learn more about interactive tables.';\n",
              "          element.innerHTML = '';\n",
              "          dataTable['output_type'] = 'display_data';\n",
              "          await google.colab.output.renderOutput(dataTable, element);\n",
              "          const docLink = document.createElement('div');\n",
              "          docLink.innerHTML = docLinkHtml;\n",
              "          element.appendChild(docLink);\n",
              "        }\n",
              "      </script>\n",
              "    </div>\n",
              "  </div>\n",
              "  "
            ]
          },
          "metadata": {},
          "execution_count": 13
        }
      ]
    },
    {
      "cell_type": "code",
      "source": [
        "dataset['PLAN'].value_counts()"
      ],
      "metadata": {
        "colab": {
          "base_uri": "https://localhost:8080/"
        },
        "id": "ZNnGvy1GpE8J",
        "outputId": "a7de1e3d-1e3b-46fa-8082-e6c521a92a3e"
      },
      "execution_count": 14,
      "outputs": [
        {
          "output_type": "execute_result",
          "data": {
            "text/plain": [
              "PKG1    359\n",
              "PKG4    358\n",
              "PKG2    353\n",
              "PKG3    268\n",
              "Name: PLAN, dtype: int64"
            ]
          },
          "metadata": {},
          "execution_count": 14
        }
      ]
    },
    {
      "cell_type": "code",
      "source": [
        "dataset.isnull().sum()"
      ],
      "metadata": {
        "colab": {
          "base_uri": "https://localhost:8080/"
        },
        "id": "nJLlxzY-qzTd",
        "outputId": "319829c7-bfb5-4960-87a5-2ef89e1199c8"
      },
      "execution_count": 15,
      "outputs": [
        {
          "output_type": "execute_result",
          "data": {
            "text/plain": [
              "age         0\n",
              "sex         0\n",
              "bmi         0\n",
              "children    0\n",
              "smoker      0\n",
              "region      0\n",
              "charges     0\n",
              "PLAN        0\n",
              "dtype: int64"
            ]
          },
          "metadata": {},
          "execution_count": 15
        }
      ]
    },
    {
      "cell_type": "code",
      "source": [
        "correlation_matrix = dataset[['age', 'sex', 'bmi', 'children', 'smoker','region','charges','PLAN']].corr()\n",
        "\n",
        "sns.heatmap(correlation_matrix)\n",
        "correlation_matrix"
      ],
      "metadata": {
        "colab": {
          "base_uri": "https://localhost:8080/",
          "height": 427
        },
        "id": "gw4BW9Qltszh",
        "outputId": "cefe5949-73d9-4e76-df35-42b3c812c627"
      },
      "execution_count": 16,
      "outputs": [
        {
          "output_type": "execute_result",
          "data": {
            "text/plain": [
              "               age       bmi  children   charges\n",
              "age       1.000000  0.032012  0.042469  0.299008\n",
              "bmi       0.032012  1.000000 -0.009511  0.029578\n",
              "children  0.042469 -0.009511  1.000000  0.067998\n",
              "charges   0.299008  0.029578  0.067998  1.000000"
            ],
            "text/html": [
              "\n",
              "  <div id=\"df-c84b86f2-0ce8-477b-8622-baf2cc8872f6\">\n",
              "    <div class=\"colab-df-container\">\n",
              "      <div>\n",
              "<style scoped>\n",
              "    .dataframe tbody tr th:only-of-type {\n",
              "        vertical-align: middle;\n",
              "    }\n",
              "\n",
              "    .dataframe tbody tr th {\n",
              "        vertical-align: top;\n",
              "    }\n",
              "\n",
              "    .dataframe thead th {\n",
              "        text-align: right;\n",
              "    }\n",
              "</style>\n",
              "<table border=\"1\" class=\"dataframe\">\n",
              "  <thead>\n",
              "    <tr style=\"text-align: right;\">\n",
              "      <th></th>\n",
              "      <th>age</th>\n",
              "      <th>bmi</th>\n",
              "      <th>children</th>\n",
              "      <th>charges</th>\n",
              "    </tr>\n",
              "  </thead>\n",
              "  <tbody>\n",
              "    <tr>\n",
              "      <th>age</th>\n",
              "      <td>1.000000</td>\n",
              "      <td>0.032012</td>\n",
              "      <td>0.042469</td>\n",
              "      <td>0.299008</td>\n",
              "    </tr>\n",
              "    <tr>\n",
              "      <th>bmi</th>\n",
              "      <td>0.032012</td>\n",
              "      <td>1.000000</td>\n",
              "      <td>-0.009511</td>\n",
              "      <td>0.029578</td>\n",
              "    </tr>\n",
              "    <tr>\n",
              "      <th>children</th>\n",
              "      <td>0.042469</td>\n",
              "      <td>-0.009511</td>\n",
              "      <td>1.000000</td>\n",
              "      <td>0.067998</td>\n",
              "    </tr>\n",
              "    <tr>\n",
              "      <th>charges</th>\n",
              "      <td>0.299008</td>\n",
              "      <td>0.029578</td>\n",
              "      <td>0.067998</td>\n",
              "      <td>1.000000</td>\n",
              "    </tr>\n",
              "  </tbody>\n",
              "</table>\n",
              "</div>\n",
              "      <button class=\"colab-df-convert\" onclick=\"convertToInteractive('df-c84b86f2-0ce8-477b-8622-baf2cc8872f6')\"\n",
              "              title=\"Convert this dataframe to an interactive table.\"\n",
              "              style=\"display:none;\">\n",
              "        \n",
              "  <svg xmlns=\"http://www.w3.org/2000/svg\" height=\"24px\"viewBox=\"0 0 24 24\"\n",
              "       width=\"24px\">\n",
              "    <path d=\"M0 0h24v24H0V0z\" fill=\"none\"/>\n",
              "    <path d=\"M18.56 5.44l.94 2.06.94-2.06 2.06-.94-2.06-.94-.94-2.06-.94 2.06-2.06.94zm-11 1L8.5 8.5l.94-2.06 2.06-.94-2.06-.94L8.5 2.5l-.94 2.06-2.06.94zm10 10l.94 2.06.94-2.06 2.06-.94-2.06-.94-.94-2.06-.94 2.06-2.06.94z\"/><path d=\"M17.41 7.96l-1.37-1.37c-.4-.4-.92-.59-1.43-.59-.52 0-1.04.2-1.43.59L10.3 9.45l-7.72 7.72c-.78.78-.78 2.05 0 2.83L4 21.41c.39.39.9.59 1.41.59.51 0 1.02-.2 1.41-.59l7.78-7.78 2.81-2.81c.8-.78.8-2.07 0-2.86zM5.41 20L4 18.59l7.72-7.72 1.47 1.35L5.41 20z\"/>\n",
              "  </svg>\n",
              "      </button>\n",
              "      \n",
              "  <style>\n",
              "    .colab-df-container {\n",
              "      display:flex;\n",
              "      flex-wrap:wrap;\n",
              "      gap: 12px;\n",
              "    }\n",
              "\n",
              "    .colab-df-convert {\n",
              "      background-color: #E8F0FE;\n",
              "      border: none;\n",
              "      border-radius: 50%;\n",
              "      cursor: pointer;\n",
              "      display: none;\n",
              "      fill: #1967D2;\n",
              "      height: 32px;\n",
              "      padding: 0 0 0 0;\n",
              "      width: 32px;\n",
              "    }\n",
              "\n",
              "    .colab-df-convert:hover {\n",
              "      background-color: #E2EBFA;\n",
              "      box-shadow: 0px 1px 2px rgba(60, 64, 67, 0.3), 0px 1px 3px 1px rgba(60, 64, 67, 0.15);\n",
              "      fill: #174EA6;\n",
              "    }\n",
              "\n",
              "    [theme=dark] .colab-df-convert {\n",
              "      background-color: #3B4455;\n",
              "      fill: #D2E3FC;\n",
              "    }\n",
              "\n",
              "    [theme=dark] .colab-df-convert:hover {\n",
              "      background-color: #434B5C;\n",
              "      box-shadow: 0px 1px 3px 1px rgba(0, 0, 0, 0.15);\n",
              "      filter: drop-shadow(0px 1px 2px rgba(0, 0, 0, 0.3));\n",
              "      fill: #FFFFFF;\n",
              "    }\n",
              "  </style>\n",
              "\n",
              "      <script>\n",
              "        const buttonEl =\n",
              "          document.querySelector('#df-c84b86f2-0ce8-477b-8622-baf2cc8872f6 button.colab-df-convert');\n",
              "        buttonEl.style.display =\n",
              "          google.colab.kernel.accessAllowed ? 'block' : 'none';\n",
              "\n",
              "        async function convertToInteractive(key) {\n",
              "          const element = document.querySelector('#df-c84b86f2-0ce8-477b-8622-baf2cc8872f6');\n",
              "          const dataTable =\n",
              "            await google.colab.kernel.invokeFunction('convertToInteractive',\n",
              "                                                     [key], {});\n",
              "          if (!dataTable) return;\n",
              "\n",
              "          const docLinkHtml = 'Like what you see? Visit the ' +\n",
              "            '<a target=\"_blank\" href=https://colab.research.google.com/notebooks/data_table.ipynb>data table notebook</a>'\n",
              "            + ' to learn more about interactive tables.';\n",
              "          element.innerHTML = '';\n",
              "          dataTable['output_type'] = 'display_data';\n",
              "          await google.colab.output.renderOutput(dataTable, element);\n",
              "          const docLink = document.createElement('div');\n",
              "          docLink.innerHTML = docLinkHtml;\n",
              "          element.appendChild(docLink);\n",
              "        }\n",
              "      </script>\n",
              "    </div>\n",
              "  </div>\n",
              "  "
            ]
          },
          "metadata": {},
          "execution_count": 16
        },
        {
          "output_type": "display_data",
          "data": {
            "text/plain": [
              "<Figure size 432x288 with 2 Axes>"
            ],
            "image/png": "[encoded data removed]"
          },
          "metadata": {
            "needs_background": "light"
          }
        }
      ]
    },
    {
      "cell_type": "code",
      "source": [
        "labelencoder = LabelEncoder()\n",
        "dataset['sex'] = labelencoder.fit_transform(dataset['sex'].astype(str))\n",
        "dataset['smoker'] = labelencoder.fit_transform(dataset['smoker'].astype(str))\n",
        "dataset['region'] = labelencoder.fit_transform(dataset['region'].astype(str))\n",
        "dataset['PLAN'] = labelencoder.fit_transform(dataset['PLAN'].astype(str))"
      ],
      "metadata": {
        "id": "qPDYeVEuq3mR"
      },
      "execution_count": 17,
      "outputs": []
    },
    {
      "cell_type": "code",
      "source": [
        "X=dataset[['age','sex','children','smoker','region']]\n",
        "y=dataset['PLAN']"
      ],
      "metadata": {
        "id": "ihOuqsaArODK"
      },
      "execution_count": 18,
      "outputs": []
    },
    {
      "cell_type": "code",
      "source": [
        "X1_train, X1_test, y_train, y_test = train_test_split(X, y, test_size=0.30, random_state=42)"
      ],
      "metadata": {
        "id": "8q1RksCcruvp"
      },
      "execution_count": 19,
      "outputs": []
    },
    {
      "cell_type": "code",
      "source": [
        "from sklearn.linear_model import LogisticRegression\n",
        "from sklearn.tree import DecisionTreeClassifier\n",
        "from sklearn.ensemble import RandomForestClassifier\n",
        "from sklearn import svm\n",
        "from sklearn.neighbors import KNeighborsClassifier #KNN\n"
      ],
      "metadata": {
        "id": "L-w8IaJ4r7tO"
      },
      "execution_count": 23,
      "outputs": []
    },
    {
      "cell_type": "markdown",
      "source": [
        "Algorithm- Logistic Regression"
      ],
      "metadata": {
        "id": "cpzf3DqD874w"
      }
    },
    {
      "cell_type": "code",
      "source": [
        "model = LogisticRegression(solver='lbfgs', max_iter=1000)\n",
        "model.fit(X1_train, y_train)"
      ],
      "metadata": {
        "colab": {
          "base_uri": "https://localhost:8080/"
        },
        "id": "-s6N6jqDr71G",
        "outputId": "9012286f-5bdf-4e12-e4f9-0ad9ac479f88"
      },
      "execution_count": 24,
      "outputs": [
        {
          "output_type": "execute_result",
          "data": {
            "text/plain": [
              "LogisticRegression(max_iter=1000)"
            ]
          },
          "metadata": {},
          "execution_count": 24
        }
      ]
    },
    {
      "cell_type": "code",
      "source": [
        "model.classes_"
      ],
      "metadata": {
        "colab": {
          "base_uri": "https://localhost:8080/"
        },
        "id": "rFfLcWklsDIn",
        "outputId": "e6bdea6e-4ae4-4bb0-9bf6-672bb3f0b493"
      },
      "execution_count": 25,
      "outputs": [
        {
          "output_type": "execute_result",
          "data": {
            "text/plain": [
              "array([0, 1, 2, 3])"
            ]
          },
          "metadata": {},
          "execution_count": 25
        }
      ]
    },
    {
      "cell_type": "code",
      "source": [
        "model.coef_"
      ],
      "metadata": {
        "colab": {
          "base_uri": "https://localhost:8080/"
        },
        "id": "uKyv_0AMsGv2",
        "outputId": "37b638bd-2f0a-4a29-ed2d-1527705282d6"
      },
      "execution_count": 26,
      "outputs": [
        {
          "output_type": "execute_result",
          "data": {
            "text/plain": [
              "array([[-7.02530054e+00,  3.16251295e-01, -3.63339314e-01,\n",
              "        -2.84121348e+00,  1.28407672e-01],\n",
              "       [ 3.88756899e-01,  2.79707638e-02,  1.79809860e-01,\n",
              "        -1.74511731e+00,  6.51492060e-02],\n",
              "       [ 5.10059589e+00, -3.43849147e-01,  3.59851295e-02,\n",
              "         2.45391230e-01, -1.04975392e-01],\n",
              "       [ 1.53594775e+00, -3.72911060e-04,  1.47544324e-01,\n",
              "         4.34093956e+00, -8.85814860e-02]])"
            ]
          },
          "metadata": {},
          "execution_count": 26
        }
      ]
    },
    {
      "cell_type": "code",
      "source": [
        "model.intercept_"
      ],
      "metadata": {
        "colab": {
          "base_uri": "https://localhost:8080/"
        },
        "id": "-gE1TEU4sKwG",
        "outputId": "b7be6e4b-669e-4d3b-f087-e4b88c51d9cf"
      },
      "execution_count": 27,
      "outputs": [
        {
          "output_type": "execute_result",
          "data": {
            "text/plain": [
              "array([ 3.16593386,  0.36076286, -2.32489565, -1.20180107])"
            ]
          },
          "metadata": {},
          "execution_count": 27
        }
      ]
    },
    {
      "cell_type": "code",
      "source": [
        "model.predict_proba(X1_test)[:5]"
      ],
      "metadata": {
        "colab": {
          "base_uri": "https://localhost:8080/"
        },
        "id": "IQksLByMsMAJ",
        "outputId": "6b9f9006-9840-442b-a6fe-739c89ed62e0"
      },
      "execution_count": 28,
      "outputs": [
        {
          "output_type": "execute_result",
          "data": {
            "text/plain": [
              "array([[3.16669417e-02, 4.40596725e-01, 3.57976253e-01, 1.69760080e-01],\n",
              "       [3.70401845e-01, 3.82723168e-01, 1.39113744e-01, 1.07761243e-01],\n",
              "       [1.19535434e-05, 3.37028268e-03, 1.57836713e-01, 8.38781051e-01],\n",
              "       [2.77098367e-02, 5.48632883e-01, 2.48744983e-01, 1.74912297e-01],\n",
              "       [7.70187792e-02, 1.15260607e-02, 3.70597882e-03, 9.07749181e-01]])"
            ]
          },
          "metadata": {},
          "execution_count": 28
        }
      ]
    },
    {
      "cell_type": "code",
      "source": [
        "model.predict(X1_test)[:5]"
      ],
      "metadata": {
        "colab": {
          "base_uri": "https://localhost:8080/"
        },
        "id": "uQlFWevcsPb3",
        "outputId": "6df3988b-e0bb-4eaa-b168-2025f8ec65b2"
      },
      "execution_count": 29,
      "outputs": [
        {
          "output_type": "execute_result",
          "data": {
            "text/plain": [
              "array([1, 1, 3, 1, 3])"
            ]
          },
          "metadata": {},
          "execution_count": 29
        }
      ]
    },
    {
      "cell_type": "code",
      "source": [
        "y_pred_prob_0 = model.predict_proba(X1_test)[:, 0]\n",
        "y_pred_prob_1 = model.predict_proba(X1_test)[:, 1]\n",
        "y_pred_prob_2 = model.predict_proba(X1_test)[:, 2]\n",
        "y_pred_prob_3 = model.predict_proba(X1_test)[:, 3]\n",
        "\n",
        "# class 0 probability\n",
        "y_pred_prob_0"
      ],
      "metadata": {
        "colab": {
          "base_uri": "https://localhost:8080/"
        },
        "id": "NGQt5TRBsSI2",
        "outputId": "f831e195-ee63-42b6-fe8c-66774d5f6b63"
      },
      "execution_count": 30,
      "outputs": [
        {
          "output_type": "execute_result",
          "data": {
            "text/plain": [
              "array([3.16669417e-02, 3.70401845e-01, 1.19535434e-05, 2.77098367e-02,\n",
              "       7.70187792e-02, 4.72607341e-01, 9.23135030e-01, 2.36945934e-03,\n",
              "       6.93338163e-01, 1.56401409e-02, 3.56252501e-03, 1.08191945e-01,\n",
              "       5.82602905e-01, 1.44978580e-04, 4.64354911e-05, 1.99748733e-04,\n",
              "       1.92240182e-02, 2.38935108e-04, 5.53513784e-02, 6.79752385e-04,\n",
              "       3.30100954e-01, 9.64761759e-02, 9.51250186e-01, 8.66698076e-01,\n",
              "       8.37326055e-03, 1.16449494e-02, 5.18993865e-03, 3.84022513e-01,\n",
              "       2.12152041e-02, 9.54855582e-01, 4.41785704e-02, 7.08076650e-03,\n",
              "       9.03738860e-01, 2.70207902e-01, 7.79419517e-01, 1.16905773e-01,\n",
              "       8.57857190e-01, 1.08441892e-01, 7.44187593e-05, 2.60450863e-03,\n",
              "       4.97320933e-01, 8.52563307e-01, 8.21288597e-03, 7.61839204e-03,\n",
              "       3.63043491e-01, 6.97581959e-03, 7.47117987e-01, 5.14297799e-01,\n",
              "       2.54393776e-04, 4.46292293e-01, 2.08911368e-03, 9.25282291e-01,\n",
              "       1.42507986e-01, 9.46328662e-01, 1.77743086e-02, 1.78322051e-02,\n",
              "       6.89510634e-01, 1.92566488e-03, 8.22299060e-03, 1.45976523e-02,\n",
              "       2.55907810e-03, 4.09556646e-01, 1.79545339e-03, 6.41792168e-02,\n",
              "       1.82468835e-02, 5.99779948e-01, 1.13164599e-02, 1.00028899e-02,\n",
              "       7.16590085e-01, 9.21957884e-01, 2.37164792e-01, 2.59617516e-02,\n",
              "       5.90741442e-02, 1.64592279e-01, 1.15049062e-01, 3.99759014e-01,\n",
              "       4.36530094e-01, 8.91604479e-03, 4.95378453e-01, 2.95521023e-02,\n",
              "       9.37994642e-01, 2.03975554e-05, 3.51241366e-01, 8.29955754e-03,\n",
              "       3.43000797e-02, 2.02803666e-04, 3.60574759e-01, 1.85571443e-02,\n",
              "       5.34211725e-02, 9.47072299e-03, 7.45113644e-04, 1.48800654e-05,\n",
              "       1.54895922e-04, 3.95815865e-01, 4.55211661e-03, 1.33238133e-01,\n",
              "       5.48097140e-03, 9.17527732e-01, 1.68677924e-03, 1.84511462e-01,\n",
              "       5.12783270e-01, 9.35084494e-01, 2.75145511e-01, 5.17325923e-03,\n",
              "       3.94584345e-03, 9.25282291e-01, 7.27969274e-02, 1.77161696e-04,\n",
              "       9.46328662e-01, 7.63990949e-05, 9.51250186e-01, 7.63151075e-01,\n",
              "       2.97403487e-03, 1.78403654e-03, 2.22535299e-02, 9.06248839e-01,\n",
              "       4.98776030e-03, 3.79676954e-04, 1.66089838e-01, 8.29966878e-01,\n",
              "       3.11988095e-01, 1.08191945e-01, 7.39243380e-03, 8.85052181e-01,\n",
              "       4.70142655e-01, 7.67890253e-02, 9.61344409e-02, 3.48126793e-02,\n",
              "       5.39926919e-03, 9.01207897e-01, 5.80085953e-01, 1.92173687e-01,\n",
              "       2.22507001e-01, 7.86706863e-02, 3.00719443e-01, 6.97581959e-03,\n",
              "       5.64791806e-01, 1.75026136e-03, 5.62865911e-04, 1.69141793e-03,\n",
              "       3.70401845e-01, 2.27385947e-02, 8.45588363e-01, 8.77990354e-03,\n",
              "       8.66583204e-01, 1.70203635e-04, 3.39250050e-01, 6.47639513e-01,\n",
              "       6.80276560e-03, 4.29306510e-01, 2.24232234e-05, 8.58211452e-01,\n",
              "       9.54855582e-01, 3.56718120e-03, 1.95792991e-01, 5.19781643e-01,\n",
              "       3.11517711e-03, 4.56415123e-02, 7.00181061e-02, 8.01340980e-04,\n",
              "       1.91462185e-03, 8.75900658e-01, 1.45026200e-03, 8.82686948e-01,\n",
              "       6.67560084e-01, 1.02297511e-01, 2.25644929e-05, 4.70622457e-05,\n",
              "       3.78491335e-04, 8.38978673e-01, 3.56169644e-02, 2.05543285e-01,\n",
              "       2.99503060e-01, 5.51780997e-01, 8.96743416e-01, 3.31905985e-04,\n",
              "       1.13655122e-01, 2.89621763e-03, 1.93312562e-03, 7.08076650e-03,\n",
              "       1.17043805e-05, 8.20082596e-01, 5.93676508e-02, 3.90749397e-01,\n",
              "       3.54401081e-01, 8.35825070e-01, 6.11011482e-01, 6.86672310e-01,\n",
              "       4.56415123e-02, 1.85571443e-02, 6.67560084e-01, 9.28245874e-01,\n",
              "       8.66698076e-01, 4.92001692e-03, 4.62533558e-03, 3.20410173e-02,\n",
              "       8.75900658e-01, 4.75748224e-03, 9.28245874e-01, 4.61224463e-02,\n",
              "       7.82276205e-01, 1.72439226e-04, 4.89116133e-01, 8.48923990e-01,\n",
              "       3.61476276e-02, 1.66666811e-02, 5.25153698e-02, 5.94347331e-01,\n",
              "       8.88409425e-02, 7.54110795e-01, 5.59467651e-03, 5.48998065e-03,\n",
              "       2.59617516e-02, 2.73345731e-02, 1.41176380e-01, 6.11861158e-01,\n",
              "       4.07514847e-01, 1.41988516e-03, 4.27128808e-03, 3.24067236e-01,\n",
              "       8.95144074e-01, 1.57467912e-01, 1.43438205e-01, 4.23162687e-04,\n",
              "       9.07765682e-01, 1.89902160e-02, 9.35084494e-01, 9.42360924e-01,\n",
              "       3.16177915e-02, 7.36612104e-03, 9.27463273e-01, 2.70834768e-02,\n",
              "       4.76622762e-01, 1.45114454e-03, 2.18206098e-02, 7.37593943e-02,\n",
              "       6.32744266e-01, 2.62720278e-01, 3.69163155e-04, 9.15271592e-01,\n",
              "       2.85396541e-03, 7.12609165e-03, 8.10561454e-01, 7.01451165e-01,\n",
              "       9.42360924e-01, 8.32358456e-01, 5.19534425e-01, 5.59130762e-01,\n",
              "       2.48698571e-03, 9.42360924e-01, 9.24097005e-01, 9.87219169e-02,\n",
              "       7.56493029e-01, 5.82183088e-03, 8.75900658e-01, 7.36184317e-01,\n",
              "       8.79676088e-03, 7.45325819e-01, 5.49128055e-02, 2.17923961e-01,\n",
              "       5.73033248e-02, 2.75489155e-03, 2.27929442e-02, 2.59834789e-05,\n",
              "       5.61003684e-03, 2.37164792e-01, 1.04322527e-04, 2.38002777e-02,\n",
              "       3.01260621e-02, 5.29149042e-02, 2.59254549e-02, 2.86762081e-02,\n",
              "       3.59185285e-03, 3.66394126e-03, 8.96743416e-01, 7.49736089e-02,\n",
              "       1.76081714e-01, 1.40437536e-03, 2.78013173e-01, 3.84893727e-02,\n",
              "       4.12736162e-02, 1.07647553e-03, 1.30598942e-02, 5.25153698e-02,\n",
              "       1.94174842e-03, 8.42027047e-01, 2.03173857e-02, 7.78450170e-05,\n",
              "       5.68560907e-01, 8.55006659e-01, 9.28245874e-01, 1.69941886e-02,\n",
              "       3.95425354e-03, 1.01299588e-02, 1.39407874e-02, 1.93399028e-02,\n",
              "       2.91102102e-02, 7.21114148e-01, 8.87869674e-01, 3.91916803e-02,\n",
              "       7.77629496e-03, 1.64592279e-01, 8.05598795e-01, 4.76781927e-02,\n",
              "       3.70673978e-03, 1.31558187e-02, 9.01800201e-01, 2.13874556e-05,\n",
              "       3.23728116e-01, 9.39753559e-01, 1.59308947e-01, 9.25282291e-01,\n",
              "       2.65740851e-02, 3.24591965e-03, 8.91085674e-01, 4.99709175e-03,\n",
              "       2.20237003e-02, 5.61003684e-03, 6.47865259e-04, 3.65017409e-03,\n",
              "       4.56514803e-04, 6.05113033e-02, 1.15572059e-03, 6.41477141e-01,\n",
              "       5.53513784e-02, 6.86627620e-02, 1.87949389e-03, 1.63581237e-02,\n",
              "       7.93835261e-01, 2.10383676e-02, 2.85396541e-03, 7.91661980e-03,\n",
              "       4.72607341e-01, 9.37589385e-02, 2.75145511e-01, 8.74983126e-01,\n",
              "       4.95378453e-01, 3.65294229e-02, 3.31905985e-04, 3.96909875e-02,\n",
              "       1.69885681e-03, 1.14346601e-01, 3.44028833e-01, 5.89789959e-01,\n",
              "       9.28245874e-01, 5.82059464e-02, 2.83418192e-01, 9.39753559e-01,\n",
              "       6.96148055e-03, 7.52353420e-02, 3.46302396e-01, 8.31761467e-01,\n",
              "       2.38002777e-02, 8.48983399e-01, 6.63641232e-04, 1.10805723e-01,\n",
              "       1.85241077e-04, 7.56493029e-01, 8.13064268e-02, 2.05073197e-01,\n",
              "       9.24097005e-01, 3.29696447e-04, 1.50198313e-01, 1.23409060e-03,\n",
              "       2.34284576e-04, 2.85441645e-01, 5.18993865e-03, 2.34308626e-01,\n",
              "       2.62181652e-02, 1.40361970e-02, 2.73050107e-04, 1.07432129e-02,\n",
              "       1.79049208e-01, 5.94510598e-01, 8.57857190e-01, 7.35279922e-03,\n",
              "       1.84539902e-03, 1.39246000e-02, 3.00320337e-02, 7.82276205e-01,\n",
              "       7.58732928e-01, 2.62720278e-01, 6.83693755e-02, 2.45216184e-02,\n",
              "       7.57163890e-05, 1.12929065e-05, 8.22299060e-03, 1.09467313e-01,\n",
              "       4.80626871e-03, 7.77661722e-03, 2.08186948e-01, 6.06275677e-01,\n",
              "       8.10469642e-02, 6.74659519e-01, 8.44839843e-02, 4.51236537e-01,\n",
              "       8.22299060e-03, 2.82427780e-02, 4.87488372e-01, 9.28245874e-01,\n",
              "       1.14709995e-02, 9.06248839e-01])"
            ]
          },
          "metadata": {},
          "execution_count": 30
        }
      ]
    },
    {
      "cell_type": "code",
      "source": [
        "y_pred = model.predict(X1_test)\n",
        "y_pred"
      ],
      "metadata": {
        "colab": {
          "base_uri": "https://localhost:8080/"
        },
        "id": "pxObE-6HsaAu",
        "outputId": "8b9a7b9b-17c8-4142-b00a-d2d7c9273817"
      },
      "execution_count": 31,
      "outputs": [
        {
          "output_type": "execute_result",
          "data": {
            "text/plain": [
              "array([1, 1, 3, 1, 3, 0, 0, 2, 0, 1, 3, 1, 0, 3, 3, 3, 1, 3, 1, 3, 1, 1,\n",
              "       0, 0, 1, 2, 2, 1, 1, 0, 1, 2, 0, 1, 0, 1, 0, 1, 3, 3, 0, 0, 2, 2,\n",
              "       1, 2, 0, 0, 3, 0, 2, 0, 1, 0, 2, 1, 0, 3, 2, 2, 2, 1, 2, 1, 2, 0,\n",
              "       3, 1, 0, 0, 1, 1, 2, 1, 1, 0, 0, 2, 0, 1, 0, 3, 1, 3, 3, 3, 1, 2,\n",
              "       1, 1, 2, 3, 3, 1, 3, 1, 3, 0, 3, 1, 0, 0, 1, 1, 2, 0, 1, 3, 0, 3,\n",
              "       0, 0, 2, 3, 2, 0, 2, 3, 1, 0, 1, 1, 2, 0, 0, 1, 1, 1, 2, 0, 0, 1,\n",
              "       1, 2, 1, 2, 0, 3, 3, 3, 1, 2, 0, 2, 0, 3, 1, 0, 2, 0, 3, 0, 0, 3,\n",
              "       1, 0, 2, 1, 3, 3, 2, 0, 2, 0, 0, 1, 3, 3, 3, 0, 1, 1, 1, 0, 0, 3,\n",
              "       3, 2, 3, 2, 3, 0, 1, 1, 1, 0, 0, 0, 1, 2, 0, 0, 0, 3, 2, 2, 0, 2,\n",
              "       0, 2, 0, 3, 0, 0, 3, 3, 2, 0, 1, 0, 2, 2, 1, 3, 1, 0, 1, 2, 2, 1,\n",
              "       0, 1, 1, 3, 0, 3, 0, 0, 1, 1, 0, 2, 0, 3, 2, 1, 0, 1, 3, 0, 2, 3,\n",
              "       0, 0, 0, 0, 0, 0, 1, 0, 0, 1, 0, 2, 0, 0, 2, 0, 2, 1, 1, 2, 3, 3,\n",
              "       2, 1, 3, 2, 1, 2, 2, 1, 2, 2, 0, 3, 1, 3, 1, 1, 2, 2, 1, 2, 3, 0,\n",
              "       2, 3, 0, 0, 0, 2, 3, 1, 1, 2, 1, 0, 0, 3, 3, 1, 0, 3, 2, 3, 0, 3,\n",
              "       1, 0, 1, 0, 3, 2, 0, 2, 2, 2, 3, 2, 3, 1, 2, 0, 1, 1, 2, 2, 0, 2,\n",
              "       2, 2, 0, 3, 1, 0, 0, 1, 3, 1, 2, 1, 1, 0, 0, 1, 1, 0, 1, 2, 1, 0,\n",
              "       2, 0, 3, 3, 3, 0, 1, 1, 0, 3, 1, 3, 3, 1, 2, 1, 2, 2, 3, 2, 1, 0,\n",
              "       0, 2, 3, 2, 1, 0, 0, 1, 1, 1, 3, 3, 2, 1, 2, 1, 1, 0, 1, 0, 1, 0,\n",
              "       2, 2, 0, 0, 2, 0])"
            ]
          },
          "metadata": {},
          "execution_count": 31
        }
      ]
    },
    {
      "cell_type": "code",
      "source": [
        "test_result = pd.DataFrame(data={'y_act':y_test, 'y_pred':y_pred, 'y_pred_prob_0':y_pred_prob_0 , 'y_pred_prob_1':y_pred_prob_1, 'y_pred_prob_2':y_pred_prob_2,'y_pred_prob_3':y_pred_prob_3})\n",
        "test_result.sample(10)"
      ],
      "metadata": {
        "colab": {
          "base_uri": "https://localhost:8080/",
          "height": 363
        },
        "id": "C6cbeKujsgXg",
        "outputId": "3bfd7b16-f29a-4846-c075-f5ada63766e9"
      },
      "execution_count": 32,
      "outputs": [
        {
          "output_type": "execute_result",
          "data": {
            "text/plain": [
              "      y_act  y_pred  y_pred_prob_0  y_pred_prob_1  y_pred_prob_2  \\\n",
              "1314      3       3       0.001687       0.010115       0.009454   \n",
              "65        0       0       0.935084       0.054974       0.002492   \n",
              "1175      0       0       0.896743       0.085501       0.005271   \n",
              "976       1       1       0.088841       0.446810       0.322901   \n",
              "1197      1       1       0.275146       0.447806       0.157993   \n",
              "605       1       2       0.032041       0.348664       0.496922   \n",
              "1010      1       1       0.068369       0.430623       0.380749   \n",
              "156       3       3       0.000457       0.006871       0.036342   \n",
              "1034      2       2       0.004806       0.209295       0.679043   \n",
              "636       0       0       0.875901       0.100600       0.005551   \n",
              "\n",
              "      y_pred_prob_3  \n",
              "1314       0.978744  \n",
              "65         0.007449  \n",
              "1175       0.012485  \n",
              "976        0.141448  \n",
              "1197       0.119055  \n",
              "605        0.122372  \n",
              "1010       0.120259  \n",
              "156        0.956331  \n",
              "1034       0.106856  \n",
              "636        0.017949  "
            ],
            "text/html": [
              "\n",
              "  <div id=\"df-6430de3b-44ee-4395-8116-560a57b01d0f\">\n",
              "    <div class=\"colab-df-container\">\n",
              "      <div>\n",
              "<style scoped>\n",
              "    .dataframe tbody tr th:only-of-type {\n",
              "        vertical-align: middle;\n",
              "    }\n",
              "\n",
              "    .dataframe tbody tr th {\n",
              "        vertical-align: top;\n",
              "    }\n",
              "\n",
              "    .dataframe thead th {\n",
              "        text-align: right;\n",
              "    }\n",
              "</style>\n",
              "<table border=\"1\" class=\"dataframe\">\n",
              "  <thead>\n",
              "    <tr style=\"text-align: right;\">\n",
              "      <th></th>\n",
              "      <th>y_act</th>\n",
              "      <th>y_pred</th>\n",
              "      <th>y_pred_prob_0</th>\n",
              "      <th>y_pred_prob_1</th>\n",
              "      <th>y_pred_prob_2</th>\n",
              "      <th>y_pred_prob_3</th>\n",
              "    </tr>\n",
              "  </thead>\n",
              "  <tbody>\n",
              "    <tr>\n",
              "      <th>1314</th>\n",
              "      <td>3</td>\n",
              "      <td>3</td>\n",
              "      <td>0.001687</td>\n",
              "      <td>0.010115</td>\n",
              "      <td>0.009454</td>\n",
              "      <td>0.978744</td>\n",
              "    </tr>\n",
              "    <tr>\n",
              "      <th>65</th>\n",
              "      <td>0</td>\n",
              "      <td>0</td>\n",
              "      <td>0.935084</td>\n",
              "      <td>0.054974</td>\n",
              "      <td>0.002492</td>\n",
              "      <td>0.007449</td>\n",
              "    </tr>\n",
              "    <tr>\n",
              "      <th>1175</th>\n",
              "      <td>0</td>\n",
              "      <td>0</td>\n",
              "      <td>0.896743</td>\n",
              "      <td>0.085501</td>\n",
              "      <td>0.005271</td>\n",
              "      <td>0.012485</td>\n",
              "    </tr>\n",
              "    <tr>\n",
              "      <th>976</th>\n",
              "      <td>1</td>\n",
              "      <td>1</td>\n",
              "      <td>0.088841</td>\n",
              "      <td>0.446810</td>\n",
              "      <td>0.322901</td>\n",
              "      <td>0.141448</td>\n",
              "    </tr>\n",
              "    <tr>\n",
              "      <th>1197</th>\n",
              "      <td>1</td>\n",
              "      <td>1</td>\n",
              "      <td>0.275146</td>\n",
              "      <td>0.447806</td>\n",
              "      <td>0.157993</td>\n",
              "      <td>0.119055</td>\n",
              "    </tr>\n",
              "    <tr>\n",
              "      <th>605</th>\n",
              "      <td>1</td>\n",
              "      <td>2</td>\n",
              "      <td>0.032041</td>\n",
              "      <td>0.348664</td>\n",
              "      <td>0.496922</td>\n",
              "      <td>0.122372</td>\n",
              "    </tr>\n",
              "    <tr>\n",
              "      <th>1010</th>\n",
              "      <td>1</td>\n",
              "      <td>1</td>\n",
              "      <td>0.068369</td>\n",
              "      <td>0.430623</td>\n",
              "      <td>0.380749</td>\n",
              "      <td>0.120259</td>\n",
              "    </tr>\n",
              "    <tr>\n",
              "      <th>156</th>\n",
              "      <td>3</td>\n",
              "      <td>3</td>\n",
              "      <td>0.000457</td>\n",
              "      <td>0.006871</td>\n",
              "      <td>0.036342</td>\n",
              "      <td>0.956331</td>\n",
              "    </tr>\n",
              "    <tr>\n",
              "      <th>1034</th>\n",
              "      <td>2</td>\n",
              "      <td>2</td>\n",
              "      <td>0.004806</td>\n",
              "      <td>0.209295</td>\n",
              "      <td>0.679043</td>\n",
              "      <td>0.106856</td>\n",
              "    </tr>\n",
              "    <tr>\n",
              "      <th>636</th>\n",
              "      <td>0</td>\n",
              "      <td>0</td>\n",
              "      <td>0.875901</td>\n",
              "      <td>0.100600</td>\n",
              "      <td>0.005551</td>\n",
              "      <td>0.017949</td>\n",
              "    </tr>\n",
              "  </tbody>\n",
              "</table>\n",
              "</div>\n",
              "      <button class=\"colab-df-convert\" onclick=\"convertToInteractive('df-6430de3b-44ee-4395-8116-560a57b01d0f')\"\n",
              "              title=\"Convert this dataframe to an interactive table.\"\n",
              "              style=\"display:none;\">\n",
              "        \n",
              "  <svg xmlns=\"http://www.w3.org/2000/svg\" height=\"24px\"viewBox=\"0 0 24 24\"\n",
              "       width=\"24px\">\n",
              "    <path d=\"M0 0h24v24H0V0z\" fill=\"none\"/>\n",
              "    <path d=\"M18.56 5.44l.94 2.06.94-2.06 2.06-.94-2.06-.94-.94-2.06-.94 2.06-2.06.94zm-11 1L8.5 8.5l.94-2.06 2.06-.94-2.06-.94L8.5 2.5l-.94 2.06-2.06.94zm10 10l.94 2.06.94-2.06 2.06-.94-2.06-.94-.94-2.06-.94 2.06-2.06.94z\"/><path d=\"M17.41 7.96l-1.37-1.37c-.4-.4-.92-.59-1.43-.59-.52 0-1.04.2-1.43.59L10.3 9.45l-7.72 7.72c-.78.78-.78 2.05 0 2.83L4 21.41c.39.39.9.59 1.41.59.51 0 1.02-.2 1.41-.59l7.78-7.78 2.81-2.81c.8-.78.8-2.07 0-2.86zM5.41 20L4 18.59l7.72-7.72 1.47 1.35L5.41 20z\"/>\n",
              "  </svg>\n",
              "      </button>\n",
              "      \n",
              "  <style>\n",
              "    .colab-df-container {\n",
              "      display:flex;\n",
              "      flex-wrap:wrap;\n",
              "      gap: 12px;\n",
              "    }\n",
              "\n",
              "    .colab-df-convert {\n",
              "      background-color: #E8F0FE;\n",
              "      border: none;\n",
              "      border-radius: 50%;\n",
              "      cursor: pointer;\n",
              "      display: none;\n",
              "      fill: #1967D2;\n",
              "      height: 32px;\n",
              "      padding: 0 0 0 0;\n",
              "      width: 32px;\n",
              "    }\n",
              "\n",
              "    .colab-df-convert:hover {\n",
              "      background-color: #E2EBFA;\n",
              "      box-shadow: 0px 1px 2px rgba(60, 64, 67, 0.3), 0px 1px 3px 1px rgba(60, 64, 67, 0.15);\n",
              "      fill: #174EA6;\n",
              "    }\n",
              "\n",
              "    [theme=dark] .colab-df-convert {\n",
              "      background-color: #3B4455;\n",
              "      fill: #D2E3FC;\n",
              "    }\n",
              "\n",
              "    [theme=dark] .colab-df-convert:hover {\n",
              "      background-color: #434B5C;\n",
              "      box-shadow: 0px 1px 3px 1px rgba(0, 0, 0, 0.15);\n",
              "      filter: drop-shadow(0px 1px 2px rgba(0, 0, 0, 0.3));\n",
              "      fill: #FFFFFF;\n",
              "    }\n",
              "  </style>\n",
              "\n",
              "      <script>\n",
              "        const buttonEl =\n",
              "          document.querySelector('#df-6430de3b-44ee-4395-8116-560a57b01d0f button.colab-df-convert');\n",
              "        buttonEl.style.display =\n",
              "          google.colab.kernel.accessAllowed ? 'block' : 'none';\n",
              "\n",
              "        async function convertToInteractive(key) {\n",
              "          const element = document.querySelector('#df-6430de3b-44ee-4395-8116-560a57b01d0f');\n",
              "          const dataTable =\n",
              "            await google.colab.kernel.invokeFunction('convertToInteractive',\n",
              "                                                     [key], {});\n",
              "          if (!dataTable) return;\n",
              "\n",
              "          const docLinkHtml = 'Like what you see? Visit the ' +\n",
              "            '<a target=\"_blank\" href=https://colab.research.google.com/notebooks/data_table.ipynb>data table notebook</a>'\n",
              "            + ' to learn more about interactive tables.';\n",
              "          element.innerHTML = '';\n",
              "          dataTable['output_type'] = 'display_data';\n",
              "          await google.colab.output.renderOutput(dataTable, element);\n",
              "          const docLink = document.createElement('div');\n",
              "          docLink.innerHTML = docLinkHtml;\n",
              "          element.appendChild(docLink);\n",
              "        }\n",
              "      </script>\n",
              "    </div>\n",
              "  </div>\n",
              "  "
            ]
          },
          "metadata": {},
          "execution_count": 32
        }
      ]
    },
    {
      "cell_type": "code",
      "source": [
        "dummy_column = pd.get_dummies(test_result['y_pred'], prefix='y_pred', drop_first=False, dummy_na=False)\n",
        "test_result = pd.concat([test_result, dummy_column], join='outer', axis=1)\n",
        "test_result.head()"
      ],
      "metadata": {
        "colab": {
          "base_uri": "https://localhost:8080/",
          "height": 206
        },
        "id": "hSMJbd1Ysm2W",
        "outputId": "f0fa8b5f-7ddb-4f6b-f315-fbefb0329075"
      },
      "execution_count": 33,
      "outputs": [
        {
          "output_type": "execute_result",
          "data": {
            "text/plain": [
              "      y_act  y_pred  y_pred_prob_0  y_pred_prob_1  y_pred_prob_2  \\\n",
              "764       1       1       0.031667       0.440597       0.357976   \n",
              "887       1       1       0.370402       0.382723       0.139114   \n",
              "890       3       3       0.000012       0.003370       0.157837   \n",
              "1293      1       1       0.027710       0.548633       0.248745   \n",
              "259       3       3       0.077019       0.011526       0.003706   \n",
              "\n",
              "      y_pred_prob_3  y_pred_0  y_pred_1  y_pred_2  y_pred_3  \n",
              "764        0.169760         0         1         0         0  \n",
              "887        0.107761         0         1         0         0  \n",
              "890        0.838781         0         0         0         1  \n",
              "1293       0.174912         0         1         0         0  \n",
              "259        0.907749         0         0         0         1  "
            ],
            "text/html": [
              "\n",
              "  <div id=\"df-46122f7f-58a4-429c-bdbb-7ad284e1395b\">\n",
              "    <div class=\"colab-df-container\">\n",
              "      <div>\n",
              "<style scoped>\n",
              "    .dataframe tbody tr th:only-of-type {\n",
              "        vertical-align: middle;\n",
              "    }\n",
              "\n",
              "    .dataframe tbody tr th {\n",
              "        vertical-align: top;\n",
              "    }\n",
              "\n",
              "    .dataframe thead th {\n",
              "        text-align: right;\n",
              "    }\n",
              "</style>\n",
              "<table border=\"1\" class=\"dataframe\">\n",
              "  <thead>\n",
              "    <tr style=\"text-align: right;\">\n",
              "      <th></th>\n",
              "      <th>y_act</th>\n",
              "      <th>y_pred</th>\n",
              "      <th>y_pred_prob_0</th>\n",
              "      <th>y_pred_prob_1</th>\n",
              "      <th>y_pred_prob_2</th>\n",
              "      <th>y_pred_prob_3</th>\n",
              "      <th>y_pred_0</th>\n",
              "      <th>y_pred_1</th>\n",
              "      <th>y_pred_2</th>\n",
              "      <th>y_pred_3</th>\n",
              "    </tr>\n",
              "  </thead>\n",
              "  <tbody>\n",
              "    <tr>\n",
              "      <th>764</th>\n",
              "      <td>1</td>\n",
              "      <td>1</td>\n",
              "      <td>0.031667</td>\n",
              "      <td>0.440597</td>\n",
              "      <td>0.357976</td>\n",
              "      <td>0.169760</td>\n",
              "      <td>0</td>\n",
              "      <td>1</td>\n",
              "      <td>0</td>\n",
              "      <td>0</td>\n",
              "    </tr>\n",
              "    <tr>\n",
              "      <th>887</th>\n",
              "      <td>1</td>\n",
              "      <td>1</td>\n",
              "      <td>0.370402</td>\n",
              "      <td>0.382723</td>\n",
              "      <td>0.139114</td>\n",
              "      <td>0.107761</td>\n",
              "      <td>0</td>\n",
              "      <td>1</td>\n",
              "      <td>0</td>\n",
              "      <td>0</td>\n",
              "    </tr>\n",
              "    <tr>\n",
              "      <th>890</th>\n",
              "      <td>3</td>\n",
              "      <td>3</td>\n",
              "      <td>0.000012</td>\n",
              "      <td>0.003370</td>\n",
              "      <td>0.157837</td>\n",
              "      <td>0.838781</td>\n",
              "      <td>0</td>\n",
              "      <td>0</td>\n",
              "      <td>0</td>\n",
              "      <td>1</td>\n",
              "    </tr>\n",
              "    <tr>\n",
              "      <th>1293</th>\n",
              "      <td>1</td>\n",
              "      <td>1</td>\n",
              "      <td>0.027710</td>\n",
              "      <td>0.548633</td>\n",
              "      <td>0.248745</td>\n",
              "      <td>0.174912</td>\n",
              "      <td>0</td>\n",
              "      <td>1</td>\n",
              "      <td>0</td>\n",
              "      <td>0</td>\n",
              "    </tr>\n",
              "    <tr>\n",
              "      <th>259</th>\n",
              "      <td>3</td>\n",
              "      <td>3</td>\n",
              "      <td>0.077019</td>\n",
              "      <td>0.011526</td>\n",
              "      <td>0.003706</td>\n",
              "      <td>0.907749</td>\n",
              "      <td>0</td>\n",
              "      <td>0</td>\n",
              "      <td>0</td>\n",
              "      <td>1</td>\n",
              "    </tr>\n",
              "  </tbody>\n",
              "</table>\n",
              "</div>\n",
              "      <button class=\"colab-df-convert\" onclick=\"convertToInteractive('df-46122f7f-58a4-429c-bdbb-7ad284e1395b')\"\n",
              "              title=\"Convert this dataframe to an interactive table.\"\n",
              "              style=\"display:none;\">\n",
              "        \n",
              "  <svg xmlns=\"http://www.w3.org/2000/svg\" height=\"24px\"viewBox=\"0 0 24 24\"\n",
              "       width=\"24px\">\n",
              "    <path d=\"M0 0h24v24H0V0z\" fill=\"none\"/>\n",
              "    <path d=\"M18.56 5.44l.94 2.06.94-2.06 2.06-.94-2.06-.94-.94-2.06-.94 2.06-2.06.94zm-11 1L8.5 8.5l.94-2.06 2.06-.94-2.06-.94L8.5 2.5l-.94 2.06-2.06.94zm10 10l.94 2.06.94-2.06 2.06-.94-2.06-.94-.94-2.06-.94 2.06-2.06.94z\"/><path d=\"M17.41 7.96l-1.37-1.37c-.4-.4-.92-.59-1.43-.59-.52 0-1.04.2-1.43.59L10.3 9.45l-7.72 7.72c-.78.78-.78 2.05 0 2.83L4 21.41c.39.39.9.59 1.41.59.51 0 1.02-.2 1.41-.59l7.78-7.78 2.81-2.81c.8-.78.8-2.07 0-2.86zM5.41 20L4 18.59l7.72-7.72 1.47 1.35L5.41 20z\"/>\n",
              "  </svg>\n",
              "      </button>\n",
              "      \n",
              "  <style>\n",
              "    .colab-df-container {\n",
              "      display:flex;\n",
              "      flex-wrap:wrap;\n",
              "      gap: 12px;\n",
              "    }\n",
              "\n",
              "    .colab-df-convert {\n",
              "      background-color: #E8F0FE;\n",
              "      border: none;\n",
              "      border-radius: 50%;\n",
              "      cursor: pointer;\n",
              "      display: none;\n",
              "      fill: #1967D2;\n",
              "      height: 32px;\n",
              "      padding: 0 0 0 0;\n",
              "      width: 32px;\n",
              "    }\n",
              "\n",
              "    .colab-df-convert:hover {\n",
              "      background-color: #E2EBFA;\n",
              "      box-shadow: 0px 1px 2px rgba(60, 64, 67, 0.3), 0px 1px 3px 1px rgba(60, 64, 67, 0.15);\n",
              "      fill: #174EA6;\n",
              "    }\n",
              "\n",
              "    [theme=dark] .colab-df-convert {\n",
              "      background-color: #3B4455;\n",
              "      fill: #D2E3FC;\n",
              "    }\n",
              "\n",
              "    [theme=dark] .colab-df-convert:hover {\n",
              "      background-color: #434B5C;\n",
              "      box-shadow: 0px 1px 3px 1px rgba(0, 0, 0, 0.15);\n",
              "      filter: drop-shadow(0px 1px 2px rgba(0, 0, 0, 0.3));\n",
              "      fill: #FFFFFF;\n",
              "    }\n",
              "  </style>\n",
              "\n",
              "      <script>\n",
              "        const buttonEl =\n",
              "          document.querySelector('#df-46122f7f-58a4-429c-bdbb-7ad284e1395b button.colab-df-convert');\n",
              "        buttonEl.style.display =\n",
              "          google.colab.kernel.accessAllowed ? 'block' : 'none';\n",
              "\n",
              "        async function convertToInteractive(key) {\n",
              "          const element = document.querySelector('#df-46122f7f-58a4-429c-bdbb-7ad284e1395b');\n",
              "          const dataTable =\n",
              "            await google.colab.kernel.invokeFunction('convertToInteractive',\n",
              "                                                     [key], {});\n",
              "          if (!dataTable) return;\n",
              "\n",
              "          const docLinkHtml = 'Like what you see? Visit the ' +\n",
              "            '<a target=\"_blank\" href=https://colab.research.google.com/notebooks/data_table.ipynb>data table notebook</a>'\n",
              "            + ' to learn more about interactive tables.';\n",
              "          element.innerHTML = '';\n",
              "          dataTable['output_type'] = 'display_data';\n",
              "          await google.colab.output.renderOutput(dataTable, element);\n",
              "          const docLink = document.createElement('div');\n",
              "          docLink.innerHTML = docLinkHtml;\n",
              "          element.appendChild(docLink);\n",
              "        }\n",
              "      </script>\n",
              "    </div>\n",
              "  </div>\n",
              "  "
            ]
          },
          "metadata": {},
          "execution_count": 33
        }
      ]
    },
    {
      "cell_type": "code",
      "source": [
        "cfm = pd.crosstab(test_result['y_act'], test_result['y_pred'], margins=True)\n",
        "cfm"
      ],
      "metadata": {
        "colab": {
          "base_uri": "https://localhost:8080/",
          "height": 238
        },
        "id": "Hxmij9_bsthf",
        "outputId": "465cad0a-232f-4daf-869c-4ad8fa061a72"
      },
      "execution_count": 36,
      "outputs": [
        {
          "output_type": "execute_result",
          "data": {
            "text/plain": [
              "y_pred    0    1   2   3  All\n",
              "y_act                        \n",
              "0       109    4   0   0  113\n",
              "1         1   91  19   0  111\n",
              "2         3   11  61   1   76\n",
              "3         8    7   9  78  102\n",
              "All     121  113  89  79  402"
            ],
            "text/html": [
              "\n",
              "  <div id=\"df-b8f6717b-0838-43c7-b949-75ae1be31e16\">\n",
              "    <div class=\"colab-df-container\">\n",
              "      <div>\n",
              "<style scoped>\n",
              "    .dataframe tbody tr th:only-of-type {\n",
              "        vertical-align: middle;\n",
              "    }\n",
              "\n",
              "    .dataframe tbody tr th {\n",
              "        vertical-align: top;\n",
              "    }\n",
              "\n",
              "    .dataframe thead th {\n",
              "        text-align: right;\n",
              "    }\n",
              "</style>\n",
              "<table border=\"1\" class=\"dataframe\">\n",
              "  <thead>\n",
              "    <tr style=\"text-align: right;\">\n",
              "      <th>y_pred</th>\n",
              "      <th>0</th>\n",
              "      <th>1</th>\n",
              "      <th>2</th>\n",
              "      <th>3</th>\n",
              "      <th>All</th>\n",
              "    </tr>\n",
              "    <tr>\n",
              "      <th>y_act</th>\n",
              "      <th></th>\n",
              "      <th></th>\n",
              "      <th></th>\n",
              "      <th></th>\n",
              "      <th></th>\n",
              "    </tr>\n",
              "  </thead>\n",
              "  <tbody>\n",
              "    <tr>\n",
              "      <th>0</th>\n",
              "      <td>109</td>\n",
              "      <td>4</td>\n",
              "      <td>0</td>\n",
              "      <td>0</td>\n",
              "      <td>113</td>\n",
              "    </tr>\n",
              "    <tr>\n",
              "      <th>1</th>\n",
              "      <td>1</td>\n",
              "      <td>91</td>\n",
              "      <td>19</td>\n",
              "      <td>0</td>\n",
              "      <td>111</td>\n",
              "    </tr>\n",
              "    <tr>\n",
              "      <th>2</th>\n",
              "      <td>3</td>\n",
              "      <td>11</td>\n",
              "      <td>61</td>\n",
              "      <td>1</td>\n",
              "      <td>76</td>\n",
              "    </tr>\n",
              "    <tr>\n",
              "      <th>3</th>\n",
              "      <td>8</td>\n",
              "      <td>7</td>\n",
              "      <td>9</td>\n",
              "      <td>78</td>\n",
              "      <td>102</td>\n",
              "    </tr>\n",
              "    <tr>\n",
              "      <th>All</th>\n",
              "      <td>121</td>\n",
              "      <td>113</td>\n",
              "      <td>89</td>\n",
              "      <td>79</td>\n",
              "      <td>402</td>\n",
              "    </tr>\n",
              "  </tbody>\n",
              "</table>\n",
              "</div>\n",
              "      <button class=\"colab-df-convert\" onclick=\"convertToInteractive('df-b8f6717b-0838-43c7-b949-75ae1be31e16')\"\n",
              "              title=\"Convert this dataframe to an interactive table.\"\n",
              "              style=\"display:none;\">\n",
              "        \n",
              "  <svg xmlns=\"http://www.w3.org/2000/svg\" height=\"24px\"viewBox=\"0 0 24 24\"\n",
              "       width=\"24px\">\n",
              "    <path d=\"M0 0h24v24H0V0z\" fill=\"none\"/>\n",
              "    <path d=\"M18.56 5.44l.94 2.06.94-2.06 2.06-.94-2.06-.94-.94-2.06-.94 2.06-2.06.94zm-11 1L8.5 8.5l.94-2.06 2.06-.94-2.06-.94L8.5 2.5l-.94 2.06-2.06.94zm10 10l.94 2.06.94-2.06 2.06-.94-2.06-.94-.94-2.06-.94 2.06-2.06.94z\"/><path d=\"M17.41 7.96l-1.37-1.37c-.4-.4-.92-.59-1.43-.59-.52 0-1.04.2-1.43.59L10.3 9.45l-7.72 7.72c-.78.78-.78 2.05 0 2.83L4 21.41c.39.39.9.59 1.41.59.51 0 1.02-.2 1.41-.59l7.78-7.78 2.81-2.81c.8-.78.8-2.07 0-2.86zM5.41 20L4 18.59l7.72-7.72 1.47 1.35L5.41 20z\"/>\n",
              "  </svg>\n",
              "      </button>\n",
              "      \n",
              "  <style>\n",
              "    .colab-df-container {\n",
              "      display:flex;\n",
              "      flex-wrap:wrap;\n",
              "      gap: 12px;\n",
              "    }\n",
              "\n",
              "    .colab-df-convert {\n",
              "      background-color: #E8F0FE;\n",
              "      border: none;\n",
              "      border-radius: 50%;\n",
              "      cursor: pointer;\n",
              "      display: none;\n",
              "      fill: #1967D2;\n",
              "      height: 32px;\n",
              "      padding: 0 0 0 0;\n",
              "      width: 32px;\n",
              "    }\n",
              "\n",
              "    .colab-df-convert:hover {\n",
              "      background-color: #E2EBFA;\n",
              "      box-shadow: 0px 1px 2px rgba(60, 64, 67, 0.3), 0px 1px 3px 1px rgba(60, 64, 67, 0.15);\n",
              "      fill: #174EA6;\n",
              "    }\n",
              "\n",
              "    [theme=dark] .colab-df-convert {\n",
              "      background-color: #3B4455;\n",
              "      fill: #D2E3FC;\n",
              "    }\n",
              "\n",
              "    [theme=dark] .colab-df-convert:hover {\n",
              "      background-color: #434B5C;\n",
              "      box-shadow: 0px 1px 3px 1px rgba(0, 0, 0, 0.15);\n",
              "      filter: drop-shadow(0px 1px 2px rgba(0, 0, 0, 0.3));\n",
              "      fill: #FFFFFF;\n",
              "    }\n",
              "  </style>\n",
              "\n",
              "      <script>\n",
              "        const buttonEl =\n",
              "          document.querySelector('#df-b8f6717b-0838-43c7-b949-75ae1be31e16 button.colab-df-convert');\n",
              "        buttonEl.style.display =\n",
              "          google.colab.kernel.accessAllowed ? 'block' : 'none';\n",
              "\n",
              "        async function convertToInteractive(key) {\n",
              "          const element = document.querySelector('#df-b8f6717b-0838-43c7-b949-75ae1be31e16');\n",
              "          const dataTable =\n",
              "            await google.colab.kernel.invokeFunction('convertToInteractive',\n",
              "                                                     [key], {});\n",
              "          if (!dataTable) return;\n",
              "\n",
              "          const docLinkHtml = 'Like what you see? Visit the ' +\n",
              "            '<a target=\"_blank\" href=https://colab.research.google.com/notebooks/data_table.ipynb>data table notebook</a>'\n",
              "            + ' to learn more about interactive tables.';\n",
              "          element.innerHTML = '';\n",
              "          dataTable['output_type'] = 'display_data';\n",
              "          await google.colab.output.renderOutput(dataTable, element);\n",
              "          const docLink = document.createElement('div');\n",
              "          docLink.innerHTML = docLinkHtml;\n",
              "          element.appendChild(docLink);\n",
              "        }\n",
              "      </script>\n",
              "    </div>\n",
              "  </div>\n",
              "  "
            ]
          },
          "metadata": {},
          "execution_count": 36
        }
      ]
    },
    {
      "cell_type": "code",
      "source": [
        "import matplotlib.pyplot as plt\n",
        "import numpy\n",
        "from sklearn import metrics\n",
        "\n",
        "confusion_matrix = metrics.confusion_matrix(test_result['y_act'], test_result['y_pred'])\n",
        "\n",
        "cm_display = metrics.ConfusionMatrixDisplay(confusion_matrix = confusion_matrix, display_labels = [False, True])\n",
        "\n",
        "cm_display.plot()\n",
        "plt.show()"
      ],
      "metadata": {
        "colab": {
          "base_uri": "https://localhost:8080/",
          "height": 279
        },
        "id": "BYomDHKlEaSv",
        "outputId": "5eb38814-bcc4-4927-9068-1e3a60aa2d01"
      },
      "execution_count": 37,
      "outputs": [
        {
          "output_type": "display_data",
          "data": {
            "text/plain": [
              "<Figure size 432x288 with 2 Axes>"
            ],
            "image/png": "[encoded data removed]"
          },
          "metadata": {
            "needs_background": "light"
          }
        }
      ]
    },
    {
      "cell_type": "code",
      "source": [
        "acuracy = (cfm.loc[0,0] + cfm.loc[1,1] + cfm.loc[2,2]+ cfm.loc[3,3]) / cfm.loc['All','All'] \n",
        "acuracy"
      ],
      "metadata": {
        "colab": {
          "base_uri": "https://localhost:8080/"
        },
        "id": "DZCcYh2Usye3",
        "outputId": "137054bf-0b52-4212-c8f0-5102d23c44c5"
      },
      "execution_count": 35,
      "outputs": [
        {
          "output_type": "execute_result",
          "data": {
            "text/plain": [
              "0.8432835820895522"
            ]
          },
          "metadata": {},
          "execution_count": 35
        }
      ]
    },
    {
      "cell_type": "code",
      "source": [
        "from sklearn.metrics import classification_report\n",
        "print(classification_report(y_test, y_pred))"
      ],
      "metadata": {
        "colab": {
          "base_uri": "https://localhost:8080/"
        },
        "id": "7ZQfctOJuSYw",
        "outputId": "7f226ca2-78c9-41fe-ef54-a8d95896f5ff"
      },
      "execution_count": null,
      "outputs": [
        {
          "output_type": "stream",
          "name": "stdout",
          "text": [
            "              precision    recall  f1-score   support\n",
            "\n",
            "           0       0.91      0.94      0.92       113\n",
            "           1       0.82      0.86      0.84       111\n",
            "           2       0.75      0.84      0.80        76\n",
            "           3       0.93      0.76      0.84       102\n",
            "\n",
            "    accuracy                           0.85       402\n",
            "   macro avg       0.85      0.85      0.85       402\n",
            "weighted avg       0.86      0.85      0.85       402\n",
            "\n"
          ]
        }
      ]
    },
    {
      "cell_type": "markdown",
      "source": [
        "2)Support Vector Machines"
      ],
      "metadata": {
        "id": "ewCz72ID932f"
      }
    },
    {
      "cell_type": "code",
      "source": [
        "\n",
        "model_SVC=svm.SVC()\n",
        "model_SVC.fit(X1_train,y_train)"
      ],
      "metadata": {
        "colab": {
          "base_uri": "https://localhost:8080/"
        },
        "id": "zW0iqM3su0r_",
        "outputId": "67cc0697-794d-449e-de2f-89769718d257"
      },
      "execution_count": 38,
      "outputs": [
        {
          "output_type": "execute_result",
          "data": {
            "text/plain": [
              "SVC()"
            ]
          },
          "metadata": {},
          "execution_count": 38
        }
      ]
    },
    {
      "cell_type": "code",
      "source": [
        "y_pred=model_SVC.predict(X1_test)"
      ],
      "metadata": {
        "id": "7JPk2AIIu_7Y"
      },
      "execution_count": 39,
      "outputs": []
    },
    {
      "cell_type": "code",
      "source": [
        "confusion_matrix_SVC = metrics.confusion_matrix(y_test,y_pred)\n",
        "\n",
        "cm_display_SVC = metrics.ConfusionMatrixDisplay(confusion_matrix = confusion_matrix_SVC, display_labels = [False, True])\n",
        "\n",
        "cm_display_SVC.plot()\n",
        "plt.show()"
      ],
      "metadata": {
        "colab": {
          "base_uri": "https://localhost:8080/",
          "height": 279
        },
        "id": "2fTkucVZMDPS",
        "outputId": "ec3b76fd-1748-438a-d1d1-8b76007d4e74"
      },
      "execution_count": 40,
      "outputs": [
        {
          "output_type": "display_data",
          "data": {
            "text/plain": [
              "<Figure size 432x288 with 2 Axes>"
            ],
            "image/png": "[encoded data removed]"
          },
          "metadata": {
            "needs_background": "light"
          }
        }
      ]
    },
    {
      "cell_type": "code",
      "source": [
        "from sklearn.metrics import accuracy_score\n",
        "print(accuracy_score(y_test,y_pred))"
      ],
      "metadata": {
        "id": "zd-YhbyhvCV_",
        "outputId": "aef78799-2bdc-4097-cbc3-9eb8d6acd101",
        "colab": {
          "base_uri": "https://localhost:8080/"
        }
      },
      "execution_count": 41,
      "outputs": [
        {
          "output_type": "stream",
          "name": "stdout",
          "text": [
            "0.8283582089552238\n"
          ]
        }
      ]
    },
    {
      "cell_type": "code",
      "source": [
        "from sklearn.metrics import classification_report\n",
        "print(classification_report(y_test, y_pred))"
      ],
      "metadata": {
        "colab": {
          "base_uri": "https://localhost:8080/"
        },
        "id": "f6aHptbPMsnt",
        "outputId": "4e58ce7f-9965-456b-b70b-6af318e7a5b5"
      },
      "execution_count": 43,
      "outputs": [
        {
          "output_type": "stream",
          "name": "stdout",
          "text": [
            "              precision    recall  f1-score   support\n",
            "\n",
            "           0       0.88      0.90      0.89       113\n",
            "           1       0.76      0.84      0.79       111\n",
            "           2       0.71      0.79      0.75        76\n",
            "           3       0.99      0.76      0.86       102\n",
            "\n",
            "    accuracy                           0.83       402\n",
            "   macro avg       0.83      0.82      0.82       402\n",
            "weighted avg       0.84      0.83      0.83       402\n",
            "\n"
          ]
        }
      ]
    },
    {
      "cell_type": "markdown",
      "source": [
        "Algorithm- Neural Network"
      ],
      "metadata": {
        "id": "_8Mw6maC-Ni2"
      }
    },
    {
      "cell_type": "code",
      "source": [
        "from sklearn.preprocessing import OneHotEncoder\n",
        "from keras.layers import Dense, Activation,Dropout\n",
        "\n",
        "import tensorflow as tf\n",
        "from keras.models import Sequential\n",
        "from keras.layers import Dense\n",
        "\n",
        "\n",
        "model = tf.keras.models.Sequential([\n",
        "  tf.keras.layers.Flatten(input_shape=(5,)),\n",
        "  tf.keras.layers.Dense(128, activation='elu'),\n",
        "  tf.keras.layers.Dense(8)\n",
        "])\n",
        "\n",
        "print(model.summary())"
      ],
      "metadata": {
        "colab": {
          "base_uri": "https://localhost:8080/"
        },
        "id": "2kwQ6VLjsuO6",
        "outputId": "0ae0abc5-e90e-41b4-fe53-52e5cda4f3cf"
      },
      "execution_count": 50,
      "outputs": [
        {
          "output_type": "stream",
          "name": "stdout",
          "text": [
            "Model: \"sequential_2\"\n",
            "_________________________________________________________________\n",
            " Layer (type)                Output Shape              Param #   \n",
            "=================================================================\n",
            " flatten_2 (Flatten)         (None, 5)                 0         \n",
            "                                                                 \n",
            " dense_4 (Dense)             (None, 128)               768       \n",
            "                                                                 \n",
            " dense_5 (Dense)             (None, 8)                 1032      \n",
            "                                                                 \n",
            "=================================================================\n",
            "Total params: 1,800\n",
            "Trainable params: 1,800\n",
            "Non-trainable params: 0\n",
            "_________________________________________________________________\n",
            "None\n"
          ]
        }
      ]
    },
    {
      "cell_type": "code",
      "source": [
        "model.compile(\n",
        "    optimizer=tf.keras.optimizers.Adam(0.01),\n",
        "    loss=tf.keras.losses.SparseCategoricalCrossentropy(from_logits=True),\n",
        "    metrics=[tf.keras.metrics.SparseCategoricalAccuracy()],\n",
        ")"
      ],
      "metadata": {
        "id": "5NZz_Jf6s7LK"
      },
      "execution_count": 51,
      "outputs": []
    },
    {
      "cell_type": "code",
      "source": [
        "# Fit model\n",
        "hist = model.fit(X1_train, y_train,\n",
        "                batch_size=128,\n",
        "                epochs=50,\n",
        "                verbose=1,\n",
        "                validation_data=(X1_test, y_test))"
      ],
      "metadata": {
        "colab": {
          "base_uri": "https://localhost:8080/"
        },
        "id": "lhcQ5gbUs96j",
        "outputId": "4e9ef1e7-d145-46f2-bb4c-fc9f4483aed1"
      },
      "execution_count": 52,
      "outputs": [
        {
          "output_type": "stream",
          "name": "stdout",
          "text": [
            "Epoch 1/50\n",
            "8/8 [==============================] - 1s 36ms/step - loss: 1.4312 - sparse_categorical_accuracy: 0.4380 - val_loss: 1.0499 - val_sparse_categorical_accuracy: 0.6667\n",
            "Epoch 2/50\n",
            "8/8 [==============================] - 0s 8ms/step - loss: 0.9719 - sparse_categorical_accuracy: 0.6688 - val_loss: 0.8442 - val_sparse_categorical_accuracy: 0.7139\n",
            "Epoch 3/50\n",
            "8/8 [==============================] - 0s 9ms/step - loss: 0.8227 - sparse_categorical_accuracy: 0.7158 - val_loss: 0.7405 - val_sparse_categorical_accuracy: 0.7562\n",
            "Epoch 4/50\n",
            "8/8 [==============================] - 0s 8ms/step - loss: 0.7441 - sparse_categorical_accuracy: 0.7479 - val_loss: 0.6878 - val_sparse_categorical_accuracy: 0.7736\n",
            "Epoch 5/50\n",
            "8/8 [==============================] - 0s 7ms/step - loss: 0.7027 - sparse_categorical_accuracy: 0.7853 - val_loss: 0.6656 - val_sparse_categorical_accuracy: 0.7861\n",
            "Epoch 6/50\n",
            "8/8 [==============================] - 0s 9ms/step - loss: 0.6705 - sparse_categorical_accuracy: 0.8045 - val_loss: 0.6415 - val_sparse_categorical_accuracy: 0.7985\n",
            "Epoch 7/50\n",
            "8/8 [==============================] - 0s 7ms/step - loss: 0.6652 - sparse_categorical_accuracy: 0.8205 - val_loss: 0.6220 - val_sparse_categorical_accuracy: 0.8234\n",
            "Epoch 8/50\n",
            "8/8 [==============================] - 0s 7ms/step - loss: 0.6444 - sparse_categorical_accuracy: 0.8226 - val_loss: 0.5937 - val_sparse_categorical_accuracy: 0.8284\n",
            "Epoch 9/50\n",
            "8/8 [==============================] - 0s 7ms/step - loss: 0.6206 - sparse_categorical_accuracy: 0.8568 - val_loss: 0.5899 - val_sparse_categorical_accuracy: 0.8209\n",
            "Epoch 10/50\n",
            "8/8 [==============================] - 0s 6ms/step - loss: 0.6219 - sparse_categorical_accuracy: 0.8355 - val_loss: 0.6007 - val_sparse_categorical_accuracy: 0.8035\n",
            "Epoch 11/50\n",
            "8/8 [==============================] - 0s 7ms/step - loss: 0.6353 - sparse_categorical_accuracy: 0.8226 - val_loss: 0.5927 - val_sparse_categorical_accuracy: 0.8333\n",
            "Epoch 12/50\n",
            "8/8 [==============================] - 0s 6ms/step - loss: 0.6250 - sparse_categorical_accuracy: 0.8429 - val_loss: 0.5805 - val_sparse_categorical_accuracy: 0.8308\n",
            "Epoch 13/50\n",
            "8/8 [==============================] - 0s 9ms/step - loss: 0.6178 - sparse_categorical_accuracy: 0.8515 - val_loss: 0.5765 - val_sparse_categorical_accuracy: 0.8308\n",
            "Epoch 14/50\n",
            "8/8 [==============================] - 0s 7ms/step - loss: 0.6326 - sparse_categorical_accuracy: 0.8312 - val_loss: 0.5738 - val_sparse_categorical_accuracy: 0.8756\n",
            "Epoch 15/50\n",
            "8/8 [==============================] - 0s 9ms/step - loss: 0.6174 - sparse_categorical_accuracy: 0.8248 - val_loss: 0.5740 - val_sparse_categorical_accuracy: 0.8483\n",
            "Epoch 16/50\n",
            "8/8 [==============================] - 0s 8ms/step - loss: 0.6284 - sparse_categorical_accuracy: 0.8429 - val_loss: 0.5720 - val_sparse_categorical_accuracy: 0.8483\n",
            "Epoch 17/50\n",
            "8/8 [==============================] - 0s 7ms/step - loss: 0.6236 - sparse_categorical_accuracy: 0.8526 - val_loss: 0.5751 - val_sparse_categorical_accuracy: 0.8532\n",
            "Epoch 18/50\n",
            "8/8 [==============================] - 0s 8ms/step - loss: 0.6238 - sparse_categorical_accuracy: 0.8259 - val_loss: 0.5711 - val_sparse_categorical_accuracy: 0.8607\n",
            "Epoch 19/50\n",
            "8/8 [==============================] - 0s 6ms/step - loss: 0.6199 - sparse_categorical_accuracy: 0.8515 - val_loss: 0.5934 - val_sparse_categorical_accuracy: 0.7886\n",
            "Epoch 20/50\n",
            "8/8 [==============================] - 0s 9ms/step - loss: 0.6202 - sparse_categorical_accuracy: 0.8259 - val_loss: 0.5736 - val_sparse_categorical_accuracy: 0.8433\n",
            "Epoch 21/50\n",
            "8/8 [==============================] - 0s 6ms/step - loss: 0.6123 - sparse_categorical_accuracy: 0.8494 - val_loss: 0.5683 - val_sparse_categorical_accuracy: 0.8507\n",
            "Epoch 22/50\n",
            "8/8 [==============================] - 0s 7ms/step - loss: 0.6167 - sparse_categorical_accuracy: 0.8483 - val_loss: 0.5706 - val_sparse_categorical_accuracy: 0.8483\n",
            "Epoch 23/50\n",
            "8/8 [==============================] - 0s 9ms/step - loss: 0.6145 - sparse_categorical_accuracy: 0.8323 - val_loss: 0.5710 - val_sparse_categorical_accuracy: 0.8657\n",
            "Epoch 24/50\n",
            "8/8 [==============================] - 0s 8ms/step - loss: 0.6105 - sparse_categorical_accuracy: 0.8494 - val_loss: 0.5763 - val_sparse_categorical_accuracy: 0.8209\n",
            "Epoch 25/50\n",
            "8/8 [==============================] - 0s 8ms/step - loss: 0.6135 - sparse_categorical_accuracy: 0.8301 - val_loss: 0.5665 - val_sparse_categorical_accuracy: 0.8607\n",
            "Epoch 26/50\n",
            "8/8 [==============================] - 0s 6ms/step - loss: 0.6158 - sparse_categorical_accuracy: 0.8483 - val_loss: 0.5612 - val_sparse_categorical_accuracy: 0.8756\n",
            "Epoch 27/50\n",
            "8/8 [==============================] - 0s 6ms/step - loss: 0.6161 - sparse_categorical_accuracy: 0.8558 - val_loss: 0.5701 - val_sparse_categorical_accuracy: 0.8682\n",
            "Epoch 28/50\n",
            "8/8 [==============================] - 0s 8ms/step - loss: 0.6211 - sparse_categorical_accuracy: 0.8547 - val_loss: 0.5789 - val_sparse_categorical_accuracy: 0.8383\n",
            "Epoch 29/50\n",
            "8/8 [==============================] - 0s 7ms/step - loss: 0.6289 - sparse_categorical_accuracy: 0.8216 - val_loss: 0.5906 - val_sparse_categorical_accuracy: 0.8507\n",
            "Epoch 30/50\n",
            "8/8 [==============================] - 0s 9ms/step - loss: 0.6301 - sparse_categorical_accuracy: 0.8280 - val_loss: 0.5654 - val_sparse_categorical_accuracy: 0.8383\n",
            "Epoch 31/50\n",
            "8/8 [==============================] - 0s 9ms/step - loss: 0.6134 - sparse_categorical_accuracy: 0.8387 - val_loss: 0.5845 - val_sparse_categorical_accuracy: 0.8184\n",
            "Epoch 32/50\n",
            "8/8 [==============================] - 0s 8ms/step - loss: 0.6148 - sparse_categorical_accuracy: 0.8194 - val_loss: 0.5574 - val_sparse_categorical_accuracy: 0.8607\n",
            "Epoch 33/50\n",
            "8/8 [==============================] - 0s 10ms/step - loss: 0.6136 - sparse_categorical_accuracy: 0.8568 - val_loss: 0.5862 - val_sparse_categorical_accuracy: 0.8060\n",
            "Epoch 34/50\n",
            "8/8 [==============================] - 0s 10ms/step - loss: 0.6140 - sparse_categorical_accuracy: 0.8301 - val_loss: 0.5799 - val_sparse_categorical_accuracy: 0.8532\n",
            "Epoch 35/50\n",
            "8/8 [==============================] - 0s 9ms/step - loss: 0.6219 - sparse_categorical_accuracy: 0.8365 - val_loss: 0.5664 - val_sparse_categorical_accuracy: 0.8284\n",
            "Epoch 36/50\n",
            "8/8 [==============================] - 0s 11ms/step - loss: 0.6086 - sparse_categorical_accuracy: 0.8312 - val_loss: 0.5657 - val_sparse_categorical_accuracy: 0.8358\n",
            "Epoch 37/50\n",
            "8/8 [==============================] - 0s 9ms/step - loss: 0.6077 - sparse_categorical_accuracy: 0.8494 - val_loss: 0.5541 - val_sparse_categorical_accuracy: 0.8781\n",
            "Epoch 38/50\n",
            "8/8 [==============================] - 0s 17ms/step - loss: 0.5994 - sparse_categorical_accuracy: 0.8579 - val_loss: 0.5516 - val_sparse_categorical_accuracy: 0.8682\n",
            "Epoch 39/50\n",
            "8/8 [==============================] - 0s 17ms/step - loss: 0.5948 - sparse_categorical_accuracy: 0.8686 - val_loss: 0.5473 - val_sparse_categorical_accuracy: 0.8632\n",
            "Epoch 40/50\n",
            "8/8 [==============================] - 0s 13ms/step - loss: 0.5985 - sparse_categorical_accuracy: 0.8397 - val_loss: 0.5527 - val_sparse_categorical_accuracy: 0.8632\n",
            "Epoch 41/50\n",
            "8/8 [==============================] - 0s 19ms/step - loss: 0.5971 - sparse_categorical_accuracy: 0.8568 - val_loss: 0.5572 - val_sparse_categorical_accuracy: 0.8557\n",
            "Epoch 42/50\n",
            "8/8 [==============================] - 0s 24ms/step - loss: 0.6080 - sparse_categorical_accuracy: 0.8579 - val_loss: 0.5729 - val_sparse_categorical_accuracy: 0.8458\n",
            "Epoch 43/50\n",
            "8/8 [==============================] - 0s 12ms/step - loss: 0.6054 - sparse_categorical_accuracy: 0.8451 - val_loss: 0.5481 - val_sparse_categorical_accuracy: 0.8781\n",
            "Epoch 44/50\n",
            "8/8 [==============================] - 0s 13ms/step - loss: 0.5883 - sparse_categorical_accuracy: 0.8526 - val_loss: 0.5457 - val_sparse_categorical_accuracy: 0.8557\n",
            "Epoch 45/50\n",
            "8/8 [==============================] - 0s 12ms/step - loss: 0.5881 - sparse_categorical_accuracy: 0.8526 - val_loss: 0.5578 - val_sparse_categorical_accuracy: 0.8507\n",
            "Epoch 46/50\n",
            "8/8 [==============================] - 0s 35ms/step - loss: 0.6000 - sparse_categorical_accuracy: 0.8408 - val_loss: 0.5543 - val_sparse_categorical_accuracy: 0.8483\n",
            "Epoch 47/50\n",
            "8/8 [==============================] - 0s 17ms/step - loss: 0.5932 - sparse_categorical_accuracy: 0.8387 - val_loss: 0.5545 - val_sparse_categorical_accuracy: 0.8507\n",
            "Epoch 48/50\n",
            "8/8 [==============================] - 0s 10ms/step - loss: 0.5950 - sparse_categorical_accuracy: 0.8632 - val_loss: 0.5445 - val_sparse_categorical_accuracy: 0.8557\n",
            "Epoch 49/50\n",
            "8/8 [==============================] - 0s 10ms/step - loss: 0.5926 - sparse_categorical_accuracy: 0.8162 - val_loss: 0.5494 - val_sparse_categorical_accuracy: 0.8706\n",
            "Epoch 50/50\n",
            "8/8 [==============================] - 0s 17ms/step - loss: 0.5917 - sparse_categorical_accuracy: 0.8515 - val_loss: 0.5502 - val_sparse_categorical_accuracy: 0.8408\n"
          ]
        }
      ]
    },
    {
      "cell_type": "code",
      "source": [
        "yhat = model.predict(X1_test)\n",
        "y_predict = np.argmax(yhat,axis=1)\n",
        "print (classification_report(y_test, y_predict))\n"
      ],
      "metadata": {
        "colab": {
          "base_uri": "https://localhost:8080/"
        },
        "id": "zDL7rr7htS9J",
        "outputId": "22ad4d03-0da4-4c3a-fd85-eeb48ac042c0"
      },
      "execution_count": 53,
      "outputs": [
        {
          "output_type": "stream",
          "name": "stdout",
          "text": [
            "13/13 [==============================] - 0s 2ms/step\n",
            "              precision    recall  f1-score   support\n",
            "\n",
            "           0       0.91      0.88      0.90       113\n",
            "           1       0.81      0.80      0.81       111\n",
            "           2       0.69      0.93      0.79        76\n",
            "           3       0.99      0.76      0.86       102\n",
            "\n",
            "    accuracy                           0.84       402\n",
            "   macro avg       0.85      0.85      0.84       402\n",
            "weighted avg       0.86      0.84      0.84       402\n",
            "\n"
          ]
        }
      ]
    },
    {
      "cell_type": "code",
      "source": [
        "acuracy_NN= metrics.accuracy_score(y_test, y_predict) \n",
        "acuracy_NN"
      ],
      "metadata": {
        "colab": {
          "base_uri": "https://localhost:8080/"
        },
        "id": "lPzxbTXfyO6w",
        "outputId": "95894bff-9f0c-41cc-d1b1-7f40530a4cad"
      },
      "execution_count": null,
      "outputs": [
        {
          "output_type": "execute_result",
          "data": {
            "text/plain": [
              "0.8258706467661692"
            ]
          },
          "metadata": {},
          "execution_count": 121
        }
      ]
    },
    {
      "cell_type": "markdown",
      "source": [
        "Algorithm- Decision Tree Classifer"
      ],
      "metadata": {
        "id": "_zQIsX0-wmKZ"
      }
    },
    {
      "cell_type": "code",
      "source": [
        "# Create model object\n",
        "model = DecisionTreeClassifier(random_state=0, max_depth=10, min_samples_split=2)\n",
        "\n",
        "# Train Model\n",
        "model.fit(X1_train, y_train)"
      ],
      "metadata": {
        "colab": {
          "base_uri": "https://localhost:8080/"
        },
        "id": "_2Xq71X-wGpn",
        "outputId": "44e830fd-dcda-41d2-d232-f0c49e300447"
      },
      "execution_count": 63,
      "outputs": [
        {
          "output_type": "execute_result",
          "data": {
            "text/plain": [
              "DecisionTreeClassifier(max_depth=10, random_state=0)"
            ]
          },
          "metadata": {},
          "execution_count": 63
        }
      ]
    },
    {
      "cell_type": "code",
      "source": [
        "# Predict on Testing Data\n",
        "\n",
        "# probabilities\n",
        "y_pred_prob_0 = model.predict_proba(X1_test)[:, 0]\n",
        "y_pred_prob_1 = model.predict_proba(X1_test)[:, 1]\n",
        "y_pred_prob_2 = model.predict_proba(X1_test)[:, 2]\n",
        "y_pred_prob_3 = model.predict_proba(X1_test)[:, 3]\n",
        "\n",
        "# Prediction\n",
        "y_pred = model.predict(X1_test)\n",
        "\n",
        "# Results table\n",
        "test_result = pd.DataFrame(data={'y_act':y_test, 'y_pred':y_pred, 'y_pred_prob_0':y_pred_prob_0 , 'y_pred_prob_1':y_pred_prob_1, 'y_pred_prob_2':y_pred_prob_2, 'y_pred_prob_3':y_pred_prob_3})\n",
        "dummy_column = pd.get_dummies(test_result['y_pred'], prefix='y_pred', drop_first=False, dummy_na=False)\n",
        "test_result = pd.concat([test_result, dummy_column], join='outer', axis=1)\n",
        "test_result.head()"
      ],
      "metadata": {
        "colab": {
          "base_uri": "https://localhost:8080/",
          "height": 206
        },
        "id": "uKgw1SLNwL3g",
        "outputId": "8e1f6515-09e1-4053-a6d7-54bad684bce7"
      },
      "execution_count": 64,
      "outputs": [
        {
          "output_type": "execute_result",
          "data": {
            "text/plain": [
              "      y_act  y_pred  y_pred_prob_0  y_pred_prob_1  y_pred_prob_2  \\\n",
              "764       1       1            0.0            1.0            0.0   \n",
              "887       1       1            0.0            1.0            0.0   \n",
              "890       3       3            0.0            0.0            0.0   \n",
              "1293      1       1            0.0            1.0            0.0   \n",
              "259       3       3            0.0            0.0            0.0   \n",
              "\n",
              "      y_pred_prob_3  y_pred_0  y_pred_1  y_pred_2  y_pred_3  \n",
              "764             0.0         0         1         0         0  \n",
              "887             0.0         0         1         0         0  \n",
              "890             1.0         0         0         0         1  \n",
              "1293            0.0         0         1         0         0  \n",
              "259             1.0         0         0         0         1  "
            ],
            "text/html": [
              "\n",
              "  <div id=\"df-7b2cfa44-b5a9-4aad-a21d-e334ea677add\">\n",
              "    <div class=\"colab-df-container\">\n",
              "      <div>\n",
              "<style scoped>\n",
              "    .dataframe tbody tr th:only-of-type {\n",
              "        vertical-align: middle;\n",
              "    }\n",
              "\n",
              "    .dataframe tbody tr th {\n",
              "        vertical-align: top;\n",
              "    }\n",
              "\n",
              "    .dataframe thead th {\n",
              "        text-align: right;\n",
              "    }\n",
              "</style>\n",
              "<table border=\"1\" class=\"dataframe\">\n",
              "  <thead>\n",
              "    <tr style=\"text-align: right;\">\n",
              "      <th></th>\n",
              "      <th>y_act</th>\n",
              "      <th>y_pred</th>\n",
              "      <th>y_pred_prob_0</th>\n",
              "      <th>y_pred_prob_1</th>\n",
              "      <th>y_pred_prob_2</th>\n",
              "      <th>y_pred_prob_3</th>\n",
              "      <th>y_pred_0</th>\n",
              "      <th>y_pred_1</th>\n",
              "      <th>y_pred_2</th>\n",
              "      <th>y_pred_3</th>\n",
              "    </tr>\n",
              "  </thead>\n",
              "  <tbody>\n",
              "    <tr>\n",
              "      <th>764</th>\n",
              "      <td>1</td>\n",
              "      <td>1</td>\n",
              "      <td>0.0</td>\n",
              "      <td>1.0</td>\n",
              "      <td>0.0</td>\n",
              "      <td>0.0</td>\n",
              "      <td>0</td>\n",
              "      <td>1</td>\n",
              "      <td>0</td>\n",
              "      <td>0</td>\n",
              "    </tr>\n",
              "    <tr>\n",
              "      <th>887</th>\n",
              "      <td>1</td>\n",
              "      <td>1</td>\n",
              "      <td>0.0</td>\n",
              "      <td>1.0</td>\n",
              "      <td>0.0</td>\n",
              "      <td>0.0</td>\n",
              "      <td>0</td>\n",
              "      <td>1</td>\n",
              "      <td>0</td>\n",
              "      <td>0</td>\n",
              "    </tr>\n",
              "    <tr>\n",
              "      <th>890</th>\n",
              "      <td>3</td>\n",
              "      <td>3</td>\n",
              "      <td>0.0</td>\n",
              "      <td>0.0</td>\n",
              "      <td>0.0</td>\n",
              "      <td>1.0</td>\n",
              "      <td>0</td>\n",
              "      <td>0</td>\n",
              "      <td>0</td>\n",
              "      <td>1</td>\n",
              "    </tr>\n",
              "    <tr>\n",
              "      <th>1293</th>\n",
              "      <td>1</td>\n",
              "      <td>1</td>\n",
              "      <td>0.0</td>\n",
              "      <td>1.0</td>\n",
              "      <td>0.0</td>\n",
              "      <td>0.0</td>\n",
              "      <td>0</td>\n",
              "      <td>1</td>\n",
              "      <td>0</td>\n",
              "      <td>0</td>\n",
              "    </tr>\n",
              "    <tr>\n",
              "      <th>259</th>\n",
              "      <td>3</td>\n",
              "      <td>3</td>\n",
              "      <td>0.0</td>\n",
              "      <td>0.0</td>\n",
              "      <td>0.0</td>\n",
              "      <td>1.0</td>\n",
              "      <td>0</td>\n",
              "      <td>0</td>\n",
              "      <td>0</td>\n",
              "      <td>1</td>\n",
              "    </tr>\n",
              "  </tbody>\n",
              "</table>\n",
              "</div>\n",
              "      <button class=\"colab-df-convert\" onclick=\"convertToInteractive('df-7b2cfa44-b5a9-4aad-a21d-e334ea677add')\"\n",
              "              title=\"Convert this dataframe to an interactive table.\"\n",
              "              style=\"display:none;\">\n",
              "        \n",
              "  <svg xmlns=\"http://www.w3.org/2000/svg\" height=\"24px\"viewBox=\"0 0 24 24\"\n",
              "       width=\"24px\">\n",
              "    <path d=\"M0 0h24v24H0V0z\" fill=\"none\"/>\n",
              "    <path d=\"M18.56 5.44l.94 2.06.94-2.06 2.06-.94-2.06-.94-.94-2.06-.94 2.06-2.06.94zm-11 1L8.5 8.5l.94-2.06 2.06-.94-2.06-.94L8.5 2.5l-.94 2.06-2.06.94zm10 10l.94 2.06.94-2.06 2.06-.94-2.06-.94-.94-2.06-.94 2.06-2.06.94z\"/><path d=\"M17.41 7.96l-1.37-1.37c-.4-.4-.92-.59-1.43-.59-.52 0-1.04.2-1.43.59L10.3 9.45l-7.72 7.72c-.78.78-.78 2.05 0 2.83L4 21.41c.39.39.9.59 1.41.59.51 0 1.02-.2 1.41-.59l7.78-7.78 2.81-2.81c.8-.78.8-2.07 0-2.86zM5.41 20L4 18.59l7.72-7.72 1.47 1.35L5.41 20z\"/>\n",
              "  </svg>\n",
              "      </button>\n",
              "      \n",
              "  <style>\n",
              "    .colab-df-container {\n",
              "      display:flex;\n",
              "      flex-wrap:wrap;\n",
              "      gap: 12px;\n",
              "    }\n",
              "\n",
              "    .colab-df-convert {\n",
              "      background-color: #E8F0FE;\n",
              "      border: none;\n",
              "      border-radius: 50%;\n",
              "      cursor: pointer;\n",
              "      display: none;\n",
              "      fill: #1967D2;\n",
              "      height: 32px;\n",
              "      padding: 0 0 0 0;\n",
              "      width: 32px;\n",
              "    }\n",
              "\n",
              "    .colab-df-convert:hover {\n",
              "      background-color: #E2EBFA;\n",
              "      box-shadow: 0px 1px 2px rgba(60, 64, 67, 0.3), 0px 1px 3px 1px rgba(60, 64, 67, 0.15);\n",
              "      fill: #174EA6;\n",
              "    }\n",
              "\n",
              "    [theme=dark] .colab-df-convert {\n",
              "      background-color: #3B4455;\n",
              "      fill: #D2E3FC;\n",
              "    }\n",
              "\n",
              "    [theme=dark] .colab-df-convert:hover {\n",
              "      background-color: #434B5C;\n",
              "      box-shadow: 0px 1px 3px 1px rgba(0, 0, 0, 0.15);\n",
              "      filter: drop-shadow(0px 1px 2px rgba(0, 0, 0, 0.3));\n",
              "      fill: #FFFFFF;\n",
              "    }\n",
              "  </style>\n",
              "\n",
              "      <script>\n",
              "        const buttonEl =\n",
              "          document.querySelector('#df-7b2cfa44-b5a9-4aad-a21d-e334ea677add button.colab-df-convert');\n",
              "        buttonEl.style.display =\n",
              "          google.colab.kernel.accessAllowed ? 'block' : 'none';\n",
              "\n",
              "        async function convertToInteractive(key) {\n",
              "          const element = document.querySelector('#df-7b2cfa44-b5a9-4aad-a21d-e334ea677add');\n",
              "          const dataTable =\n",
              "            await google.colab.kernel.invokeFunction('convertToInteractive',\n",
              "                                                     [key], {});\n",
              "          if (!dataTable) return;\n",
              "\n",
              "          const docLinkHtml = 'Like what you see? Visit the ' +\n",
              "            '<a target=\"_blank\" href=https://colab.research.google.com/notebooks/data_table.ipynb>data table notebook</a>'\n",
              "            + ' to learn more about interactive tables.';\n",
              "          element.innerHTML = '';\n",
              "          dataTable['output_type'] = 'display_data';\n",
              "          await google.colab.output.renderOutput(dataTable, element);\n",
              "          const docLink = document.createElement('div');\n",
              "          docLink.innerHTML = docLinkHtml;\n",
              "          element.appendChild(docLink);\n",
              "        }\n",
              "      </script>\n",
              "    </div>\n",
              "  </div>\n",
              "  "
            ]
          },
          "metadata": {},
          "execution_count": 64
        }
      ]
    },
    {
      "cell_type": "code",
      "source": [
        "confusion_matrix_DT = metrics.confusion_matrix(y_test,y_pred)\n",
        "\n",
        "cm_display_DT = metrics.ConfusionMatrixDisplay(confusion_matrix = confusion_matrix_DT, display_labels = [False, True])\n",
        "\n",
        "cm_display_DT.plot()\n",
        "plt.show()"
      ],
      "metadata": {
        "id": "I_Qc7jlnwYiH",
        "colab": {
          "base_uri": "https://localhost:8080/",
          "height": 279
        },
        "outputId": "e18418d7-ac5b-43b9-8cb2-d17da0c19e41"
      },
      "execution_count": 67,
      "outputs": [
        {
          "output_type": "display_data",
          "data": {
            "text/plain": [
              "<Figure size 432x288 with 2 Axes>"
            ],
            "image/png": "[encoded data removed]"
          },
          "metadata": {
            "needs_background": "light"
          }
        }
      ]
    },
    {
      "cell_type": "code",
      "source": [
        "cfm = pd.crosstab(test_result['y_act'], test_result['y_pred'], margins=True)\n",
        "cfm"
      ],
      "metadata": {
        "colab": {
          "base_uri": "https://localhost:8080/",
          "height": 238
        },
        "id": "SQePfmV6wYnv",
        "outputId": "675c198f-f69b-4303-b300-d38dad8b9419"
      },
      "execution_count": 69,
      "outputs": [
        {
          "output_type": "execute_result",
          "data": {
            "text/plain": [
              "y_pred    0    1   2   3  All\n",
              "y_act                        \n",
              "0       107    2   0   4  113\n",
              "1         4   96   7   4  111\n",
              "2         2    1  69   4   76\n",
              "3         8    5   6  83  102\n",
              "All     121  104  82  95  402"
            ],
            "text/html": [
              "\n",
              "  <div id=\"df-3439a82f-b739-4076-b437-db0589ea282b\">\n",
              "    <div class=\"colab-df-container\">\n",
              "      <div>\n",
              "<style scoped>\n",
              "    .dataframe tbody tr th:only-of-type {\n",
              "        vertical-align: middle;\n",
              "    }\n",
              "\n",
              "    .dataframe tbody tr th {\n",
              "        vertical-align: top;\n",
              "    }\n",
              "\n",
              "    .dataframe thead th {\n",
              "        text-align: right;\n",
              "    }\n",
              "</style>\n",
              "<table border=\"1\" class=\"dataframe\">\n",
              "  <thead>\n",
              "    <tr style=\"text-align: right;\">\n",
              "      <th>y_pred</th>\n",
              "      <th>0</th>\n",
              "      <th>1</th>\n",
              "      <th>2</th>\n",
              "      <th>3</th>\n",
              "      <th>All</th>\n",
              "    </tr>\n",
              "    <tr>\n",
              "      <th>y_act</th>\n",
              "      <th></th>\n",
              "      <th></th>\n",
              "      <th></th>\n",
              "      <th></th>\n",
              "      <th></th>\n",
              "    </tr>\n",
              "  </thead>\n",
              "  <tbody>\n",
              "    <tr>\n",
              "      <th>0</th>\n",
              "      <td>107</td>\n",
              "      <td>2</td>\n",
              "      <td>0</td>\n",
              "      <td>4</td>\n",
              "      <td>113</td>\n",
              "    </tr>\n",
              "    <tr>\n",
              "      <th>1</th>\n",
              "      <td>4</td>\n",
              "      <td>96</td>\n",
              "      <td>7</td>\n",
              "      <td>4</td>\n",
              "      <td>111</td>\n",
              "    </tr>\n",
              "    <tr>\n",
              "      <th>2</th>\n",
              "      <td>2</td>\n",
              "      <td>1</td>\n",
              "      <td>69</td>\n",
              "      <td>4</td>\n",
              "      <td>76</td>\n",
              "    </tr>\n",
              "    <tr>\n",
              "      <th>3</th>\n",
              "      <td>8</td>\n",
              "      <td>5</td>\n",
              "      <td>6</td>\n",
              "      <td>83</td>\n",
              "      <td>102</td>\n",
              "    </tr>\n",
              "    <tr>\n",
              "      <th>All</th>\n",
              "      <td>121</td>\n",
              "      <td>104</td>\n",
              "      <td>82</td>\n",
              "      <td>95</td>\n",
              "      <td>402</td>\n",
              "    </tr>\n",
              "  </tbody>\n",
              "</table>\n",
              "</div>\n",
              "      <button class=\"colab-df-convert\" onclick=\"convertToInteractive('df-3439a82f-b739-4076-b437-db0589ea282b')\"\n",
              "              title=\"Convert this dataframe to an interactive table.\"\n",
              "              style=\"display:none;\">\n",
              "        \n",
              "  <svg xmlns=\"http://www.w3.org/2000/svg\" height=\"24px\"viewBox=\"0 0 24 24\"\n",
              "       width=\"24px\">\n",
              "    <path d=\"M0 0h24v24H0V0z\" fill=\"none\"/>\n",
              "    <path d=\"M18.56 5.44l.94 2.06.94-2.06 2.06-.94-2.06-.94-.94-2.06-.94 2.06-2.06.94zm-11 1L8.5 8.5l.94-2.06 2.06-.94-2.06-.94L8.5 2.5l-.94 2.06-2.06.94zm10 10l.94 2.06.94-2.06 2.06-.94-2.06-.94-.94-2.06-.94 2.06-2.06.94z\"/><path d=\"M17.41 7.96l-1.37-1.37c-.4-.4-.92-.59-1.43-.59-.52 0-1.04.2-1.43.59L10.3 9.45l-7.72 7.72c-.78.78-.78 2.05 0 2.83L4 21.41c.39.39.9.59 1.41.59.51 0 1.02-.2 1.41-.59l7.78-7.78 2.81-2.81c.8-.78.8-2.07 0-2.86zM5.41 20L4 18.59l7.72-7.72 1.47 1.35L5.41 20z\"/>\n",
              "  </svg>\n",
              "      </button>\n",
              "      \n",
              "  <style>\n",
              "    .colab-df-container {\n",
              "      display:flex;\n",
              "      flex-wrap:wrap;\n",
              "      gap: 12px;\n",
              "    }\n",
              "\n",
              "    .colab-df-convert {\n",
              "      background-color: #E8F0FE;\n",
              "      border: none;\n",
              "      border-radius: 50%;\n",
              "      cursor: pointer;\n",
              "      display: none;\n",
              "      fill: #1967D2;\n",
              "      height: 32px;\n",
              "      padding: 0 0 0 0;\n",
              "      width: 32px;\n",
              "    }\n",
              "\n",
              "    .colab-df-convert:hover {\n",
              "      background-color: #E2EBFA;\n",
              "      box-shadow: 0px 1px 2px rgba(60, 64, 67, 0.3), 0px 1px 3px 1px rgba(60, 64, 67, 0.15);\n",
              "      fill: #174EA6;\n",
              "    }\n",
              "\n",
              "    [theme=dark] .colab-df-convert {\n",
              "      background-color: #3B4455;\n",
              "      fill: #D2E3FC;\n",
              "    }\n",
              "\n",
              "    [theme=dark] .colab-df-convert:hover {\n",
              "      background-color: #434B5C;\n",
              "      box-shadow: 0px 1px 3px 1px rgba(0, 0, 0, 0.15);\n",
              "      filter: drop-shadow(0px 1px 2px rgba(0, 0, 0, 0.3));\n",
              "      fill: #FFFFFF;\n",
              "    }\n",
              "  </style>\n",
              "\n",
              "      <script>\n",
              "        const buttonEl =\n",
              "          document.querySelector('#df-3439a82f-b739-4076-b437-db0589ea282b button.colab-df-convert');\n",
              "        buttonEl.style.display =\n",
              "          google.colab.kernel.accessAllowed ? 'block' : 'none';\n",
              "\n",
              "        async function convertToInteractive(key) {\n",
              "          const element = document.querySelector('#df-3439a82f-b739-4076-b437-db0589ea282b');\n",
              "          const dataTable =\n",
              "            await google.colab.kernel.invokeFunction('convertToInteractive',\n",
              "                                                     [key], {});\n",
              "          if (!dataTable) return;\n",
              "\n",
              "          const docLinkHtml = 'Like what you see? Visit the ' +\n",
              "            '<a target=\"_blank\" href=https://colab.research.google.com/notebooks/data_table.ipynb>data table notebook</a>'\n",
              "            + ' to learn more about interactive tables.';\n",
              "          element.innerHTML = '';\n",
              "          dataTable['output_type'] = 'display_data';\n",
              "          await google.colab.output.renderOutput(dataTable, element);\n",
              "          const docLink = document.createElement('div');\n",
              "          docLink.innerHTML = docLinkHtml;\n",
              "          element.appendChild(docLink);\n",
              "        }\n",
              "      </script>\n",
              "    </div>\n",
              "  </div>\n",
              "  "
            ]
          },
          "metadata": {},
          "execution_count": 69
        }
      ]
    },
    {
      "cell_type": "code",
      "source": [
        "from sklearn import metrics\n",
        "acuracy_tc = metrics.accuracy_score(test_result['y_act'], test_result['y_pred']) \n",
        "acuracy_tc"
      ],
      "metadata": {
        "colab": {
          "base_uri": "https://localhost:8080/"
        },
        "id": "C1uWnfi1wcUC",
        "outputId": "063cab68-3b9a-4bad-fdc7-7c4c8bbeaa73"
      },
      "execution_count": 66,
      "outputs": [
        {
          "output_type": "execute_result",
          "data": {
            "text/plain": [
              "0.8830845771144279"
            ]
          },
          "metadata": {},
          "execution_count": 66
        }
      ]
    },
    {
      "cell_type": "code",
      "source": [
        "f1_score_decision_tree = metrics.f1_score(test_result['y_act'], test_result['y_pred'], average='weighted')  #weighted accounts for label imbalance.\n",
        "f1_score_decision_tree"
      ],
      "metadata": {
        "colab": {
          "base_uri": "https://localhost:8080/"
        },
        "id": "55K_a6UbyENC",
        "outputId": "2a76b42c-945b-4f59-bd42-164ced0def3e"
      },
      "execution_count": null,
      "outputs": [
        {
          "output_type": "execute_result",
          "data": {
            "text/plain": [
              "0.8825782267446578"
            ]
          },
          "metadata": {},
          "execution_count": 120
        }
      ]
    },
    {
      "cell_type": "code",
      "source": [
        "print (classification_report(test_result['y_act'], test_result['y_pred']))"
      ],
      "metadata": {
        "colab": {
          "base_uri": "https://localhost:8080/"
        },
        "id": "vP9EtIkES1Ud",
        "outputId": "fb0dd907-f1ac-4db0-a1b3-ac1125330e00"
      },
      "execution_count": 70,
      "outputs": [
        {
          "output_type": "stream",
          "name": "stdout",
          "text": [
            "              precision    recall  f1-score   support\n",
            "\n",
            "           0       0.88      0.95      0.91       113\n",
            "           1       0.92      0.86      0.89       111\n",
            "           2       0.84      0.91      0.87        76\n",
            "           3       0.87      0.81      0.84       102\n",
            "\n",
            "    accuracy                           0.88       402\n",
            "   macro avg       0.88      0.88      0.88       402\n",
            "weighted avg       0.88      0.88      0.88       402\n",
            "\n"
          ]
        }
      ]
    }
  ]
}